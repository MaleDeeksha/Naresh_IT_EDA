{
 "cells": [
  {
   "cell_type": "code",
   "execution_count": null,
   "id": "f080e657",
   "metadata": {},
   "outputs": [],
   "source": [
    "**standardization &narmalization**\n",
    "- standadization and normalization are two methods to convert data values into same scale\n",
    "- it is also calling scaling of data\n",
    "- in the data we have many coluns are there, each column has different units as well as different values\n",
    "- for example you have age and salary, age is very minimal number two digit number\n",
    "- and salary is kind of 5 digit number\n",
    "- when you multiply 2 digit number with 5 digit number it involves some complexity\n",
    "- imagine you are multiplying both are single digit number ,this involve less complexity\n",
    "- scaling converts  all the data into a scale\n",
    "-**standadization **\n",
    "  - it is also callesd z-score or z-scale\n",
    "  - it ranges -3 to 3\n",
    "  - the mean=0 std=1\n",
    "  -  \n",
    "    \n",
    "\n",
    "    \n",
    "    -**normalization**\n",
    "- "
   ]
  },
  {
   "cell_type": "code",
   "execution_count": 2,
   "id": "ccbe85f6",
   "metadata": {},
   "outputs": [],
   "source": [
    "import pandas as pd\n",
    "import numpy as np\n",
    "import matplotlib.pyplot as plt\n",
    "import seaborn as sns"
   ]
  },
  {
   "cell_type": "code",
   "execution_count": 3,
   "id": "7ea179f3",
   "metadata": {},
   "outputs": [
    {
     "data": {
      "text/html": [
       "<div>\n",
       "<style scoped>\n",
       "    .dataframe tbody tr th:only-of-type {\n",
       "        vertical-align: middle;\n",
       "    }\n",
       "\n",
       "    .dataframe tbody tr th {\n",
       "        vertical-align: top;\n",
       "    }\n",
       "\n",
       "    .dataframe thead th {\n",
       "        text-align: right;\n",
       "    }\n",
       "</style>\n",
       "<table border=\"1\" class=\"dataframe\">\n",
       "  <thead>\n",
       "    <tr style=\"text-align: right;\">\n",
       "      <th></th>\n",
       "      <th>case_id</th>\n",
       "      <th>continent</th>\n",
       "      <th>education_of_employee</th>\n",
       "      <th>has_job_experience</th>\n",
       "      <th>requires_job_training</th>\n",
       "      <th>no_of_employees</th>\n",
       "      <th>yr_of_estab</th>\n",
       "      <th>region_of_employment</th>\n",
       "      <th>prevailing_wage</th>\n",
       "      <th>unit_of_wage</th>\n",
       "      <th>full_time_position</th>\n",
       "      <th>case_status</th>\n",
       "    </tr>\n",
       "  </thead>\n",
       "  <tbody>\n",
       "    <tr>\n",
       "      <th>0</th>\n",
       "      <td>EZYV01</td>\n",
       "      <td>Asia</td>\n",
       "      <td>High School</td>\n",
       "      <td>N</td>\n",
       "      <td>N</td>\n",
       "      <td>14513</td>\n",
       "      <td>2007</td>\n",
       "      <td>West</td>\n",
       "      <td>592.2029</td>\n",
       "      <td>Hour</td>\n",
       "      <td>Y</td>\n",
       "      <td>Denied</td>\n",
       "    </tr>\n",
       "    <tr>\n",
       "      <th>1</th>\n",
       "      <td>EZYV02</td>\n",
       "      <td>Asia</td>\n",
       "      <td>Master's</td>\n",
       "      <td>Y</td>\n",
       "      <td>N</td>\n",
       "      <td>2412</td>\n",
       "      <td>2002</td>\n",
       "      <td>Northeast</td>\n",
       "      <td>83425.6500</td>\n",
       "      <td>Year</td>\n",
       "      <td>Y</td>\n",
       "      <td>Certified</td>\n",
       "    </tr>\n",
       "    <tr>\n",
       "      <th>2</th>\n",
       "      <td>EZYV03</td>\n",
       "      <td>Asia</td>\n",
       "      <td>Bachelor's</td>\n",
       "      <td>N</td>\n",
       "      <td>Y</td>\n",
       "      <td>44444</td>\n",
       "      <td>2008</td>\n",
       "      <td>West</td>\n",
       "      <td>122996.8600</td>\n",
       "      <td>Year</td>\n",
       "      <td>Y</td>\n",
       "      <td>Denied</td>\n",
       "    </tr>\n",
       "    <tr>\n",
       "      <th>3</th>\n",
       "      <td>EZYV04</td>\n",
       "      <td>Asia</td>\n",
       "      <td>Bachelor's</td>\n",
       "      <td>N</td>\n",
       "      <td>N</td>\n",
       "      <td>98</td>\n",
       "      <td>1897</td>\n",
       "      <td>West</td>\n",
       "      <td>83434.0300</td>\n",
       "      <td>Year</td>\n",
       "      <td>Y</td>\n",
       "      <td>Denied</td>\n",
       "    </tr>\n",
       "    <tr>\n",
       "      <th>4</th>\n",
       "      <td>EZYV05</td>\n",
       "      <td>Africa</td>\n",
       "      <td>Master's</td>\n",
       "      <td>Y</td>\n",
       "      <td>N</td>\n",
       "      <td>1082</td>\n",
       "      <td>2005</td>\n",
       "      <td>South</td>\n",
       "      <td>149907.3900</td>\n",
       "      <td>Year</td>\n",
       "      <td>Y</td>\n",
       "      <td>Certified</td>\n",
       "    </tr>\n",
       "  </tbody>\n",
       "</table>\n",
       "</div>"
      ],
      "text/plain": [
       "  case_id continent education_of_employee has_job_experience  \\\n",
       "0  EZYV01      Asia           High School                  N   \n",
       "1  EZYV02      Asia              Master's                  Y   \n",
       "2  EZYV03      Asia            Bachelor's                  N   \n",
       "3  EZYV04      Asia            Bachelor's                  N   \n",
       "4  EZYV05    Africa              Master's                  Y   \n",
       "\n",
       "  requires_job_training  no_of_employees  yr_of_estab region_of_employment  \\\n",
       "0                     N            14513         2007                 West   \n",
       "1                     N             2412         2002            Northeast   \n",
       "2                     Y            44444         2008                 West   \n",
       "3                     N               98         1897                 West   \n",
       "4                     N             1082         2005                South   \n",
       "\n",
       "   prevailing_wage unit_of_wage full_time_position case_status  \n",
       "0         592.2029         Hour                  Y      Denied  \n",
       "1       83425.6500         Year                  Y   Certified  \n",
       "2      122996.8600         Year                  Y      Denied  \n",
       "3       83434.0300         Year                  Y      Denied  \n",
       "4      149907.3900         Year                  Y   Certified  "
      ]
     },
     "execution_count": 3,
     "metadata": {},
     "output_type": "execute_result"
    }
   ],
   "source": [
    "file_location=\"C:\\\\Users\\\\hp\\\\Downloads\\\\Visadataset - Visadataset.csv\"\n",
    "visa_df=pd.read_csv(file_location)\n",
    "visa_df.head()"
   ]
  },
  {
   "cell_type": "markdown",
   "id": "d5a5f2a8",
   "metadata": {},
   "source": [
    "**z-score**"
   ]
  },
  {
   "cell_type": "code",
   "execution_count": 5,
   "id": "0156fcaf",
   "metadata": {},
   "outputs": [
    {
     "data": {
      "text/html": [
       "<div>\n",
       "<style scoped>\n",
       "    .dataframe tbody tr th:only-of-type {\n",
       "        vertical-align: middle;\n",
       "    }\n",
       "\n",
       "    .dataframe tbody tr th {\n",
       "        vertical-align: top;\n",
       "    }\n",
       "\n",
       "    .dataframe thead th {\n",
       "        text-align: right;\n",
       "    }\n",
       "</style>\n",
       "<table border=\"1\" class=\"dataframe\">\n",
       "  <thead>\n",
       "    <tr style=\"text-align: right;\">\n",
       "      <th></th>\n",
       "      <th>prevailing_wage</th>\n",
       "      <th>prevailing_wage_Zscore</th>\n",
       "    </tr>\n",
       "  </thead>\n",
       "  <tbody>\n",
       "    <tr>\n",
       "      <th>0</th>\n",
       "      <td>592.2029</td>\n",
       "      <td>-1.398510</td>\n",
       "    </tr>\n",
       "    <tr>\n",
       "      <th>1</th>\n",
       "      <td>83425.6500</td>\n",
       "      <td>0.169832</td>\n",
       "    </tr>\n",
       "    <tr>\n",
       "      <th>2</th>\n",
       "      <td>122996.8600</td>\n",
       "      <td>0.919060</td>\n",
       "    </tr>\n",
       "    <tr>\n",
       "      <th>3</th>\n",
       "      <td>83434.0300</td>\n",
       "      <td>0.169991</td>\n",
       "    </tr>\n",
       "    <tr>\n",
       "      <th>4</th>\n",
       "      <td>149907.3900</td>\n",
       "      <td>1.428576</td>\n",
       "    </tr>\n",
       "    <tr>\n",
       "      <th>...</th>\n",
       "      <td>...</td>\n",
       "      <td>...</td>\n",
       "    </tr>\n",
       "    <tr>\n",
       "      <th>25475</th>\n",
       "      <td>77092.5700</td>\n",
       "      <td>0.049923</td>\n",
       "    </tr>\n",
       "    <tr>\n",
       "      <th>25476</th>\n",
       "      <td>279174.7900</td>\n",
       "      <td>3.876083</td>\n",
       "    </tr>\n",
       "    <tr>\n",
       "      <th>25477</th>\n",
       "      <td>146298.8500</td>\n",
       "      <td>1.360253</td>\n",
       "    </tr>\n",
       "    <tr>\n",
       "      <th>25478</th>\n",
       "      <td>86154.7700</td>\n",
       "      <td>0.221504</td>\n",
       "    </tr>\n",
       "    <tr>\n",
       "      <th>25479</th>\n",
       "      <td>70876.9100</td>\n",
       "      <td>-0.067762</td>\n",
       "    </tr>\n",
       "  </tbody>\n",
       "</table>\n",
       "<p>25480 rows × 2 columns</p>\n",
       "</div>"
      ],
      "text/plain": [
       "       prevailing_wage  prevailing_wage_Zscore\n",
       "0             592.2029               -1.398510\n",
       "1           83425.6500                0.169832\n",
       "2          122996.8600                0.919060\n",
       "3           83434.0300                0.169991\n",
       "4          149907.3900                1.428576\n",
       "...                ...                     ...\n",
       "25475       77092.5700                0.049923\n",
       "25476      279174.7900                3.876083\n",
       "25477      146298.8500                1.360253\n",
       "25478       86154.7700                0.221504\n",
       "25479       70876.9100               -0.067762\n",
       "\n",
       "[25480 rows x 2 columns]"
      ]
     },
     "execution_count": 5,
     "metadata": {},
     "output_type": "execute_result"
    }
   ],
   "source": [
    "mean=visa_df['prevailing_wage'].mean()\n",
    "std=visa_df['prevailing_wage'].std()\n",
    "Nr=visa_df['prevailing_wage']-mean\n",
    "out=Nr/std\n",
    "visa_df['prevailing_wage_Zscore']=out\n",
    "visa_df[['prevailing_wage','prevailing_wage_Zscore']]"
   ]
  },
  {
   "cell_type": "code",
   "execution_count": 6,
   "id": "07711a10",
   "metadata": {},
   "outputs": [
    {
     "data": {
      "text/plain": [
       "(319210.27, 4.634101837909902)"
      ]
     },
     "execution_count": 6,
     "metadata": {},
     "output_type": "execute_result"
    }
   ],
   "source": [
    "max_original=visa_df['prevailing_wage'].max()\n",
    "max_z=visa_df['prevailing_wage_Zscore'].max()\n",
    "max_original,max_z"
   ]
  },
  {
   "cell_type": "code",
   "execution_count": 7,
   "id": "078b4360",
   "metadata": {},
   "outputs": [
    {
     "data": {
      "text/plain": [
       "21077"
      ]
     },
     "execution_count": 7,
     "metadata": {},
     "output_type": "execute_result"
    }
   ],
   "source": [
    "visa_df['prevailing_wage'].idxmax()"
   ]
  },
  {
   "cell_type": "code",
   "execution_count": 8,
   "id": "fdd19796",
   "metadata": {},
   "outputs": [
    {
     "data": {
      "text/plain": [
       "21077"
      ]
     },
     "execution_count": 8,
     "metadata": {},
     "output_type": "execute_result"
    }
   ],
   "source": [
    "visa_df['prevailing_wage_Zscore'].idxmax()"
   ]
  },
  {
   "cell_type": "code",
   "execution_count": 10,
   "id": "ed879e8f",
   "metadata": {},
   "outputs": [
    {
     "data": {
      "text/html": [
       "<div>\n",
       "<style scoped>\n",
       "    .dataframe tbody tr th:only-of-type {\n",
       "        vertical-align: middle;\n",
       "    }\n",
       "\n",
       "    .dataframe tbody tr th {\n",
       "        vertical-align: top;\n",
       "    }\n",
       "\n",
       "    .dataframe thead th {\n",
       "        text-align: right;\n",
       "    }\n",
       "</style>\n",
       "<table border=\"1\" class=\"dataframe\">\n",
       "  <thead>\n",
       "    <tr style=\"text-align: right;\">\n",
       "      <th></th>\n",
       "      <th>case_id</th>\n",
       "      <th>continent</th>\n",
       "      <th>education_of_employee</th>\n",
       "      <th>has_job_experience</th>\n",
       "      <th>requires_job_training</th>\n",
       "      <th>no_of_employees</th>\n",
       "      <th>yr_of_estab</th>\n",
       "      <th>region_of_employment</th>\n",
       "      <th>prevailing_wage</th>\n",
       "      <th>unit_of_wage</th>\n",
       "      <th>full_time_position</th>\n",
       "      <th>case_status</th>\n",
       "      <th>prevailing_wage_Zscore</th>\n",
       "    </tr>\n",
       "  </thead>\n",
       "  <tbody>\n",
       "    <tr>\n",
       "      <th>21077</th>\n",
       "      <td>EZYV21078</td>\n",
       "      <td>Asia</td>\n",
       "      <td>High School</td>\n",
       "      <td>N</td>\n",
       "      <td>N</td>\n",
       "      <td>442</td>\n",
       "      <td>2006</td>\n",
       "      <td>Midwest</td>\n",
       "      <td>319210.27</td>\n",
       "      <td>Year</td>\n",
       "      <td>Y</td>\n",
       "      <td>Denied</td>\n",
       "      <td>4.634102</td>\n",
       "    </tr>\n",
       "  </tbody>\n",
       "</table>\n",
       "</div>"
      ],
      "text/plain": [
       "         case_id continent education_of_employee has_job_experience  \\\n",
       "21077  EZYV21078      Asia           High School                  N   \n",
       "\n",
       "      requires_job_training  no_of_employees  yr_of_estab  \\\n",
       "21077                     N              442         2006   \n",
       "\n",
       "      region_of_employment  prevailing_wage unit_of_wage full_time_position  \\\n",
       "21077              Midwest        319210.27         Year                  Y   \n",
       "\n",
       "      case_status  prevailing_wage_Zscore  \n",
       "21077      Denied                4.634102  "
      ]
     },
     "execution_count": 10,
     "metadata": {},
     "output_type": "execute_result"
    }
   ],
   "source": [
    "visa_df.iloc[[21077]]"
   ]
  },
  {
   "cell_type": "code",
   "execution_count": 11,
   "id": "a262e68c",
   "metadata": {},
   "outputs": [
    {
     "data": {
      "text/plain": [
       "20575"
      ]
     },
     "execution_count": 11,
     "metadata": {},
     "output_type": "execute_result"
    }
   ],
   "source": [
    "min_original=visa_df['prevailing_wage'].min()\n",
    "min_z=visa_df['prevailing_wage_Zscore'].min()\n",
    "print(min_original,min_z)\n",
    "print(visa_df['prevailing_wage'].idxmin())\n",
    "print(visa_df['prevailing_wage_Zscore'].idxmin())"
   ]
  },
  {
   "cell_type": "markdown",
   "id": "4b1381e9",
   "metadata": {},
   "source": [
    "**influential outliers**"
   ]
  },
  {
   "cell_type": "code",
   "execution_count": 13,
   "id": "933b29e9",
   "metadata": {},
   "outputs": [
    {
     "data": {
      "image/png": "[encoded data removed]",
      "text/plain": [
       "<Figure size 640x480 with 2 Axes>"
      ]
     },
     "metadata": {},
     "output_type": "display_data"
    }
   ],
   "source": [
    "plt.subplot(1,2,1)\n",
    "plt.boxplot(visa_df['prevailing_wage'])\n",
    "plt.subplot(1,2,2)\n",
    "plt.boxplot(visa_df['prevailing_wage_Zscore'])\n",
    "plt.show()"
   ]
  },
  {
   "cell_type": "markdown",
   "id": "fc6fe704",
   "metadata": {},
   "source": [
    "**using package:standadization**"
   ]
  },
  {
   "cell_type": "code",
   "execution_count": 4,
   "id": "b445d96a",
   "metadata": {},
   "outputs": [
    {
     "data": {
      "text/html": [
       "<div>\n",
       "<style scoped>\n",
       "    .dataframe tbody tr th:only-of-type {\n",
       "        vertical-align: middle;\n",
       "    }\n",
       "\n",
       "    .dataframe tbody tr th {\n",
       "        vertical-align: top;\n",
       "    }\n",
       "\n",
       "    .dataframe thead th {\n",
       "        text-align: right;\n",
       "    }\n",
       "</style>\n",
       "<table border=\"1\" class=\"dataframe\">\n",
       "  <thead>\n",
       "    <tr style=\"text-align: right;\">\n",
       "      <th></th>\n",
       "      <th>prevailing_wage</th>\n",
       "      <th>prevailing_wage_Zscore</th>\n",
       "    </tr>\n",
       "  </thead>\n",
       "  <tbody>\n",
       "    <tr>\n",
       "      <th>0</th>\n",
       "      <td>592.2029</td>\n",
       "      <td>-1.398537</td>\n",
       "    </tr>\n",
       "    <tr>\n",
       "      <th>1</th>\n",
       "      <td>83425.6500</td>\n",
       "      <td>0.169835</td>\n",
       "    </tr>\n",
       "    <tr>\n",
       "      <th>2</th>\n",
       "      <td>122996.8600</td>\n",
       "      <td>0.919079</td>\n",
       "    </tr>\n",
       "    <tr>\n",
       "      <th>3</th>\n",
       "      <td>83434.0300</td>\n",
       "      <td>0.169994</td>\n",
       "    </tr>\n",
       "    <tr>\n",
       "      <th>4</th>\n",
       "      <td>149907.3900</td>\n",
       "      <td>1.428604</td>\n",
       "    </tr>\n",
       "    <tr>\n",
       "      <th>...</th>\n",
       "      <td>...</td>\n",
       "      <td>...</td>\n",
       "    </tr>\n",
       "    <tr>\n",
       "      <th>25475</th>\n",
       "      <td>77092.5700</td>\n",
       "      <td>0.049924</td>\n",
       "    </tr>\n",
       "    <tr>\n",
       "      <th>25476</th>\n",
       "      <td>279174.7900</td>\n",
       "      <td>3.876159</td>\n",
       "    </tr>\n",
       "    <tr>\n",
       "      <th>25477</th>\n",
       "      <td>146298.8500</td>\n",
       "      <td>1.360280</td>\n",
       "    </tr>\n",
       "    <tr>\n",
       "      <th>25478</th>\n",
       "      <td>86154.7700</td>\n",
       "      <td>0.221509</td>\n",
       "    </tr>\n",
       "    <tr>\n",
       "      <th>25479</th>\n",
       "      <td>70876.9100</td>\n",
       "      <td>-0.067763</td>\n",
       "    </tr>\n",
       "  </tbody>\n",
       "</table>\n",
       "<p>25480 rows × 2 columns</p>\n",
       "</div>"
      ],
      "text/plain": [
       "       prevailing_wage  prevailing_wage_Zscore\n",
       "0             592.2029               -1.398537\n",
       "1           83425.6500                0.169835\n",
       "2          122996.8600                0.919079\n",
       "3           83434.0300                0.169994\n",
       "4          149907.3900                1.428604\n",
       "...                ...                     ...\n",
       "25475       77092.5700                0.049924\n",
       "25476      279174.7900                3.876159\n",
       "25477      146298.8500                1.360280\n",
       "25478       86154.7700                0.221509\n",
       "25479       70876.9100               -0.067763\n",
       "\n",
       "[25480 rows x 2 columns]"
      ]
     },
     "execution_count": 4,
     "metadata": {},
     "output_type": "execute_result"
    }
   ],
   "source": [
    "file_location=\"C:\\\\Users\\\\hp\\\\Downloads\\\\Visadataset - Visadataset.csv\"\n",
    "visa_df=pd.read_csv(file_location)\n",
    "\n",
    "\n",
    "from sklearn.preprocessing import StandardScaler\n",
    "ss=StandardScaler()\n",
    "visa_df['prevailing_wage_Zscore']=ss.fit_transform(visa_df[['prevailing_wage']])\n",
    "visa_df[[\"prevailing_wage\",\"prevailing_wage_Zscore\"]]"
   ]
  },
  {
   "cell_type": "markdown",
   "id": "08cf91d3",
   "metadata": {},
   "source": [
    "**normalization**"
   ]
  },
  {
   "cell_type": "markdown",
   "id": "99991d78",
   "metadata": {},
   "source": [
    "- read the data again\n",
    "- step-1: read the column\n",
    "- step-2: calculate min value\n",
    "- step-3: calculate max value\n",
    "- step-4: Nr=column-min\n",
    "- step-5:Dr=max-min\n",
    "- step-6:out=Nr/Dr\n",
    "- step-7:savs in a column    "
   ]
  },
  {
   "cell_type": "code",
   "execution_count": 4,
   "id": "5d1a5d7d",
   "metadata": {},
   "outputs": [
    {
     "data": {
      "text/html": [
       "<div>\n",
       "<style scoped>\n",
       "    .dataframe tbody tr th:only-of-type {\n",
       "        vertical-align: middle;\n",
       "    }\n",
       "\n",
       "    .dataframe tbody tr th {\n",
       "        vertical-align: top;\n",
       "    }\n",
       "\n",
       "    .dataframe thead th {\n",
       "        text-align: right;\n",
       "    }\n",
       "</style>\n",
       "<table border=\"1\" class=\"dataframe\">\n",
       "  <thead>\n",
       "    <tr style=\"text-align: right;\">\n",
       "      <th></th>\n",
       "      <th>prevailing_wage</th>\n",
       "      <th>prevailing_wage_norm</th>\n",
       "    </tr>\n",
       "  </thead>\n",
       "  <tbody>\n",
       "    <tr>\n",
       "      <th>0</th>\n",
       "      <td>592.2029</td>\n",
       "      <td>0.001849</td>\n",
       "    </tr>\n",
       "    <tr>\n",
       "      <th>1</th>\n",
       "      <td>83425.6500</td>\n",
       "      <td>0.261345</td>\n",
       "    </tr>\n",
       "    <tr>\n",
       "      <th>2</th>\n",
       "      <td>122996.8600</td>\n",
       "      <td>0.385312</td>\n",
       "    </tr>\n",
       "    <tr>\n",
       "      <th>3</th>\n",
       "      <td>83434.0300</td>\n",
       "      <td>0.261371</td>\n",
       "    </tr>\n",
       "    <tr>\n",
       "      <th>4</th>\n",
       "      <td>149907.3900</td>\n",
       "      <td>0.469616</td>\n",
       "    </tr>\n",
       "    <tr>\n",
       "      <th>...</th>\n",
       "      <td>...</td>\n",
       "      <td>...</td>\n",
       "    </tr>\n",
       "    <tr>\n",
       "      <th>25475</th>\n",
       "      <td>77092.5700</td>\n",
       "      <td>0.241505</td>\n",
       "    </tr>\n",
       "    <tr>\n",
       "      <th>25476</th>\n",
       "      <td>279174.7900</td>\n",
       "      <td>0.874579</td>\n",
       "    </tr>\n",
       "    <tr>\n",
       "      <th>25477</th>\n",
       "      <td>146298.8500</td>\n",
       "      <td>0.458311</td>\n",
       "    </tr>\n",
       "    <tr>\n",
       "      <th>25478</th>\n",
       "      <td>86154.7700</td>\n",
       "      <td>0.269895</td>\n",
       "    </tr>\n",
       "    <tr>\n",
       "      <th>25479</th>\n",
       "      <td>70876.9100</td>\n",
       "      <td>0.222033</td>\n",
       "    </tr>\n",
       "  </tbody>\n",
       "</table>\n",
       "<p>25480 rows × 2 columns</p>\n",
       "</div>"
      ],
      "text/plain": [
       "       prevailing_wage  prevailing_wage_norm\n",
       "0             592.2029              0.001849\n",
       "1           83425.6500              0.261345\n",
       "2          122996.8600              0.385312\n",
       "3           83434.0300              0.261371\n",
       "4          149907.3900              0.469616\n",
       "...                ...                   ...\n",
       "25475       77092.5700              0.241505\n",
       "25476      279174.7900              0.874579\n",
       "25477      146298.8500              0.458311\n",
       "25478       86154.7700              0.269895\n",
       "25479       70876.9100              0.222033\n",
       "\n",
       "[25480 rows x 2 columns]"
      ]
     },
     "execution_count": 4,
     "metadata": {},
     "output_type": "execute_result"
    }
   ],
   "source": [
    "file_location=\"C:\\\\Users\\\\hp\\\\Downloads\\\\Visadataset - Visadataset.csv\"\n",
    "visa_df=pd.read_csv(file_location)\n",
    "min_val=visa_df['prevailing_wage'].min()\n",
    "max_val=visa_df['prevailing_wage'].max()\n",
    "Nr=visa_df['prevailing_wage']-min_val\n",
    "Dr=max_val-min_val\n",
    "out=Nr/Dr\n",
    "visa_df['prevailing_wage_norm']=out\n",
    "visa_df[['prevailing_wage','prevailing_wage_norm']]\n"
   ]
  },
  {
   "cell_type": "code",
   "execution_count": 5,
   "id": "2271130c",
   "metadata": {},
   "outputs": [
    {
     "data": {
      "text/html": [
       "<div>\n",
       "<style scoped>\n",
       "    .dataframe tbody tr th:only-of-type {\n",
       "        vertical-align: middle;\n",
       "    }\n",
       "\n",
       "    .dataframe tbody tr th {\n",
       "        vertical-align: top;\n",
       "    }\n",
       "\n",
       "    .dataframe thead th {\n",
       "        text-align: right;\n",
       "    }\n",
       "</style>\n",
       "<table border=\"1\" class=\"dataframe\">\n",
       "  <thead>\n",
       "    <tr style=\"text-align: right;\">\n",
       "      <th></th>\n",
       "      <th>case_id</th>\n",
       "      <th>continent</th>\n",
       "      <th>education_of_employee</th>\n",
       "      <th>has_job_experience</th>\n",
       "      <th>requires_job_training</th>\n",
       "      <th>no_of_employees</th>\n",
       "      <th>yr_of_estab</th>\n",
       "      <th>region_of_employment</th>\n",
       "      <th>prevailing_wage</th>\n",
       "      <th>unit_of_wage</th>\n",
       "      <th>full_time_position</th>\n",
       "      <th>case_status</th>\n",
       "      <th>prevailing_wage_norm</th>\n",
       "    </tr>\n",
       "  </thead>\n",
       "  <tbody>\n",
       "    <tr>\n",
       "      <th>20575</th>\n",
       "      <td>EZYV20576</td>\n",
       "      <td>North America</td>\n",
       "      <td>Master's</td>\n",
       "      <td>N</td>\n",
       "      <td>N</td>\n",
       "      <td>1552</td>\n",
       "      <td>2004</td>\n",
       "      <td>Northeast</td>\n",
       "      <td>2.1367</td>\n",
       "      <td>Hour</td>\n",
       "      <td>Y</td>\n",
       "      <td>Certified</td>\n",
       "      <td>0.0</td>\n",
       "    </tr>\n",
       "    <tr>\n",
       "      <th>21077</th>\n",
       "      <td>EZYV21078</td>\n",
       "      <td>Asia</td>\n",
       "      <td>High School</td>\n",
       "      <td>N</td>\n",
       "      <td>N</td>\n",
       "      <td>442</td>\n",
       "      <td>2006</td>\n",
       "      <td>Midwest</td>\n",
       "      <td>319210.2700</td>\n",
       "      <td>Year</td>\n",
       "      <td>Y</td>\n",
       "      <td>Denied</td>\n",
       "      <td>1.0</td>\n",
       "    </tr>\n",
       "  </tbody>\n",
       "</table>\n",
       "</div>"
      ],
      "text/plain": [
       "         case_id      continent education_of_employee has_job_experience  \\\n",
       "20575  EZYV20576  North America              Master's                  N   \n",
       "21077  EZYV21078           Asia           High School                  N   \n",
       "\n",
       "      requires_job_training  no_of_employees  yr_of_estab  \\\n",
       "20575                     N             1552         2004   \n",
       "21077                     N              442         2006   \n",
       "\n",
       "      region_of_employment  prevailing_wage unit_of_wage full_time_position  \\\n",
       "20575            Northeast           2.1367         Hour                  Y   \n",
       "21077              Midwest      319210.2700         Year                  Y   \n",
       "\n",
       "      case_status  prevailing_wage_norm  \n",
       "20575   Certified                   0.0  \n",
       "21077      Denied                   1.0  "
      ]
     },
     "execution_count": 5,
     "metadata": {},
     "output_type": "execute_result"
    }
   ],
   "source": [
    "visa_df.iloc[[20575,21077]]"
   ]
  },
  {
   "cell_type": "markdown",
   "id": "8a14719e",
   "metadata": {},
   "source": [
    "**using package:minmaxscaler**"
   ]
  },
  {
   "cell_type": "code",
   "execution_count": 9,
   "id": "f4b37ca1",
   "metadata": {},
   "outputs": [
    {
     "data": {
      "text/html": [
       "<div>\n",
       "<style scoped>\n",
       "    .dataframe tbody tr th:only-of-type {\n",
       "        vertical-align: middle;\n",
       "    }\n",
       "\n",
       "    .dataframe tbody tr th {\n",
       "        vertical-align: top;\n",
       "    }\n",
       "\n",
       "    .dataframe thead th {\n",
       "        text-align: right;\n",
       "    }\n",
       "</style>\n",
       "<table border=\"1\" class=\"dataframe\">\n",
       "  <thead>\n",
       "    <tr style=\"text-align: right;\">\n",
       "      <th></th>\n",
       "      <th>prevailing_wage</th>\n",
       "      <th>prevailing_wage_norm</th>\n",
       "    </tr>\n",
       "  </thead>\n",
       "  <tbody>\n",
       "    <tr>\n",
       "      <th>0</th>\n",
       "      <td>592.2029</td>\n",
       "      <td>0.001849</td>\n",
       "    </tr>\n",
       "    <tr>\n",
       "      <th>1</th>\n",
       "      <td>83425.6500</td>\n",
       "      <td>0.261345</td>\n",
       "    </tr>\n",
       "    <tr>\n",
       "      <th>2</th>\n",
       "      <td>122996.8600</td>\n",
       "      <td>0.385312</td>\n",
       "    </tr>\n",
       "    <tr>\n",
       "      <th>3</th>\n",
       "      <td>83434.0300</td>\n",
       "      <td>0.261371</td>\n",
       "    </tr>\n",
       "    <tr>\n",
       "      <th>4</th>\n",
       "      <td>149907.3900</td>\n",
       "      <td>0.469616</td>\n",
       "    </tr>\n",
       "    <tr>\n",
       "      <th>...</th>\n",
       "      <td>...</td>\n",
       "      <td>...</td>\n",
       "    </tr>\n",
       "    <tr>\n",
       "      <th>25475</th>\n",
       "      <td>77092.5700</td>\n",
       "      <td>0.241505</td>\n",
       "    </tr>\n",
       "    <tr>\n",
       "      <th>25476</th>\n",
       "      <td>279174.7900</td>\n",
       "      <td>0.874579</td>\n",
       "    </tr>\n",
       "    <tr>\n",
       "      <th>25477</th>\n",
       "      <td>146298.8500</td>\n",
       "      <td>0.458311</td>\n",
       "    </tr>\n",
       "    <tr>\n",
       "      <th>25478</th>\n",
       "      <td>86154.7700</td>\n",
       "      <td>0.269895</td>\n",
       "    </tr>\n",
       "    <tr>\n",
       "      <th>25479</th>\n",
       "      <td>70876.9100</td>\n",
       "      <td>0.222033</td>\n",
       "    </tr>\n",
       "  </tbody>\n",
       "</table>\n",
       "<p>25480 rows × 2 columns</p>\n",
       "</div>"
      ],
      "text/plain": [
       "       prevailing_wage  prevailing_wage_norm\n",
       "0             592.2029              0.001849\n",
       "1           83425.6500              0.261345\n",
       "2          122996.8600              0.385312\n",
       "3           83434.0300              0.261371\n",
       "4          149907.3900              0.469616\n",
       "...                ...                   ...\n",
       "25475       77092.5700              0.241505\n",
       "25476      279174.7900              0.874579\n",
       "25477      146298.8500              0.458311\n",
       "25478       86154.7700              0.269895\n",
       "25479       70876.9100              0.222033\n",
       "\n",
       "[25480 rows x 2 columns]"
      ]
     },
     "execution_count": 9,
     "metadata": {},
     "output_type": "execute_result"
    }
   ],
   "source": [
    "file_location=\"C:\\\\Users\\\\hp\\\\Downloads\\\\Visadataset - Visadataset.csv\"\n",
    "visa_df=pd.read_csv(file_location)\n",
    "\n",
    "from sklearn.preprocessing import MinMaxScaler\n",
    "mms=MinMaxScaler()\n",
    "visa_df['prevailing_wage_norm']=mms.fit_transform(visa_df[['prevailing_wage']])\n",
    "visa_df[[\"prevailing_wage\",\"prevailing_wage_norm\"]]"
   ]
  },
  {
   "cell_type": "markdown",
   "id": "25f0193c",
   "metadata": {},
   "source": [
    "**fit_transform**"
   ]
  },
  {
   "cell_type": "markdown",
   "id": "8e5fe8fb",
   "metadata": {},
   "source": [
    "- there are two terms fit and transform\n",
    "- if you see in z-score\n",
    "  - x:data\n",
    "  - mean: mean of data\n",
    "  - std: std of dta\n",
    "- will find the value of mean ans std,this is called fit\n",
    "- once we find vale we need apply entire data,this is called transform\n",
    "- fit tranform calculate the measurments(parameters or statistics) and apply on data\n",
    "        "
   ]
  },
  {
   "cell_type": "code",
   "execution_count": null,
   "id": "cfc2ed35",
   "metadata": {},
   "outputs": [],
   "source": []
  },
  {
   "cell_type": "code",
   "execution_count": null,
   "id": "1b605336",
   "metadata": {},
   "outputs": [],
   "source": []
  },
  {
   "cell_type": "code",
   "execution_count": null,
   "id": "1a4d961e",
   "metadata": {},
   "outputs": [],
   "source": []
  },
  {
   "cell_type": "code",
   "execution_count": null,
   "id": "f2fb62c2",
   "metadata": {},
   "outputs": [],
   "source": []
  },
  {
   "cell_type": "code",
   "execution_count": null,
   "id": "19db8917",
   "metadata": {},
   "outputs": [],
   "source": []
  },
  {
   "cell_type": "code",
   "execution_count": null,
   "id": "3060d4b2",
   "metadata": {},
   "outputs": [],
   "source": []
  },
  {
   "cell_type": "code",
   "execution_count": null,
   "id": "e0177dc1",
   "metadata": {},
   "outputs": [],
   "source": []
  },
  {
   "cell_type": "code",
   "execution_count": null,
   "id": "8c763d3d",
   "metadata": {},
   "outputs": [],
   "source": []
  },
  {
   "cell_type": "code",
   "execution_count": null,
   "id": "16760c02",
   "metadata": {},
   "outputs": [],
   "source": []
  },
  {
   "cell_type": "code",
   "execution_count": null,
   "id": "07825ff0",
   "metadata": {},
   "outputs": [],
   "source": []
  },
  {
   "cell_type": "code",
   "execution_count": null,
   "id": "821e7f39",
   "metadata": {},
   "outputs": [],
   "source": []
  },
  {
   "cell_type": "code",
   "execution_count": null,
   "id": "955ec083",
   "metadata": {},
   "outputs": [],
   "source": []
  },
  {
   "cell_type": "code",
   "execution_count": null,
   "id": "1836b39c",
   "metadata": {},
   "outputs": [],
   "source": []
  },
  {
   "cell_type": "code",
   "execution_count": null,
   "id": "f7248e40",
   "metadata": {},
   "outputs": [],
   "source": []
  },
  {
   "cell_type": "code",
   "execution_count": null,
   "id": "4ac13ee3",
   "metadata": {},
   "outputs": [],
   "source": []
  },
  {
   "cell_type": "code",
   "execution_count": null,
   "id": "ea87b9e6",
   "metadata": {},
   "outputs": [],
   "source": [
    "**data transformation techniques**"
   ]
  },
  {
   "cell_type": "markdown",
   "id": "6cda0ff8",
   "metadata": {},
   "source": [
    "$step-1$\n",
    "**read the required packages**"
   ]
  },
  {
   "cell_type": "code",
   "execution_count": null,
   "id": "78f5d27f",
   "metadata": {},
   "outputs": [],
   "source": [
    "import numpy as np\n",
    "import matplotlib.pyplot as plt"
   ]
  },
  {
   "cell_type": "markdown",
   "id": "e3b1b979",
   "metadata": {},
   "source": [
    "$step-2$\n",
    "**read the data**"
   ]
  },
  {
   "cell_type": "markdown",
   "id": "013e168a",
   "metadata": {},
   "source": [
    "$Exponential - data$ "
   ]
  },
  {
   "cell_type": "code",
   "execution_count": 11,
   "id": "392c75ce",
   "metadata": {},
   "outputs": [
    {
     "data": {
      "text/plain": [
       "array([3.58503598, 0.39841396, 0.35075313, 0.37111591, 0.00836412,\n",
       "       0.42183719, 0.42098599, 0.4650496 , 0.83450126, 1.20062207])"
      ]
     },
     "execution_count": 11,
     "metadata": {},
     "output_type": "execute_result"
    }
   ],
   "source": [
    "exp_data=np.random.exponential(size=1000)\n",
    "exp_data[:10]\n",
    "# we are consider exponential data set with ik random observations\n",
    "# using numpy package"
   ]
  },
  {
   "cell_type": "code",
   "execution_count": 6,
   "id": "adbb0845",
   "metadata": {},
   "outputs": [
    {
     "data": {
      "image/png": "[encoded data removed]",
      "text/plain": [
       "<Figure size 640x480 with 1 Axes>"
      ]
     },
     "metadata": {},
     "output_type": "display_data"
    }
   ],
   "source": [
    "plt.hist(exp_data,bins=40,label='Exponential')\n",
    "plt.legend()\n",
    "plt.show()"
   ]
  },
  {
   "cell_type": "code",
   "execution_count": 31,
   "id": "5d76f489",
   "metadata": {},
   "outputs": [
    {
     "ename": "AttributeError",
     "evalue": "module 'numpy.random' has no attribute 'exp'",
     "output_type": "error",
     "traceback": [
      "\u001b[1;31m---------------------------------------------------------------------------\u001b[0m",
      "\u001b[1;31mAttributeError\u001b[0m                            Traceback (most recent call last)",
      "Cell \u001b[1;32mIn[31], line 1\u001b[0m\n\u001b[1;32m----> 1\u001b[0m exp_data\u001b[38;5;241m=\u001b[39mnp\u001b[38;5;241m.\u001b[39mrandom\u001b[38;5;241m.\u001b[39mexp(size\u001b[38;5;241m=\u001b[39m\u001b[38;5;241m1000\u001b[39m)\n\u001b[0;32m      2\u001b[0m plt\u001b[38;5;241m.\u001b[39mhist(norm_data)\n",
      "\u001b[1;31mAttributeError\u001b[0m: module 'numpy.random' has no attribute 'exp'"
     ]
    }
   ],
   "source": [
    "exp_data=np.random.exponential(size=1000)\n",
    "plt.hist(exp_data)"
   ]
  },
  {
   "cell_type": "markdown",
   "id": "f2b8b4d2",
   "metadata": {},
   "source": [
    "$step-3$\n",
    "-**log transformation**"
   ]
  },
  {
   "cell_type": "code",
   "execution_count": null,
   "id": "3e954594",
   "metadata": {},
   "outputs": [],
   "source": [
    "- np. log is used for log transformation"
   ]
  },
  {
   "cell_type": "code",
   "execution_count": 7,
   "id": "64042d78",
   "metadata": {},
   "outputs": [
    {
     "data": {
      "text/plain": [
       "array([-0.53594362,  0.18253747, -3.6189996 ,  0.52009563,  0.76997726,\n",
       "       -1.52846643,  0.68117372,  0.45633711, -0.19524139,  0.66022591])"
      ]
     },
     "execution_count": 7,
     "metadata": {},
     "output_type": "execute_result"
    }
   ],
   "source": [
    "log_data=np.log(exp_data)\n",
    "log_data[:10]"
   ]
  },
  {
   "cell_type": "code",
   "execution_count": 8,
   "id": "49902080",
   "metadata": {},
   "outputs": [
    {
     "data": {
      "text/plain": [
       "array([0.5851169 , 1.20025913, 0.02680948, 1.68218851, 2.15971714,\n",
       "       0.21686799, 1.97619587, 1.57828231, 0.82263606, 1.93522948])"
      ]
     },
     "execution_count": 8,
     "metadata": {},
     "output_type": "execute_result"
    }
   ],
   "source": [
    "exp_data[:10]"
   ]
  },
  {
   "cell_type": "code",
   "execution_count": 9,
   "id": "95b8a407",
   "metadata": {},
   "outputs": [
    {
     "data": {
      "image/png": "[encoded data removed]",
      "text/plain": [
       "<Figure size 640x480 with 1 Axes>"
      ]
     },
     "metadata": {},
     "output_type": "display_data"
    }
   ],
   "source": [
    "plt.hist(log_data,bins=40,label='Log data')\n",
    "plt.legend()\n",
    "plt.show()"
   ]
  },
  {
   "cell_type": "code",
   "execution_count": 15,
   "id": "3055d910",
   "metadata": {},
   "outputs": [
    {
     "data": {
      "image/png": "[encoded data removed]",
      "text/plain": [
       "<Figure size 1000x500 with 2 Axes>"
      ]
     },
     "metadata": {},
     "output_type": "display_data"
    }
   ],
   "source": [
    "plt.figure(figsize=(10,5))\n",
    "plt.subplot(1,2,1).hist(exp_data,bins=40,label='Exponential')\n",
    "plt.legend()\n",
    "plt.subplot(1,2,2).hist(log_data,bins=40,label='Log Transformation')\n",
    "plt.legend()\n",
    "plt.show()    "
   ]
  },
  {
   "cell_type": "markdown",
   "id": "a9b8591e",
   "metadata": {},
   "source": [
    "$step-4$\n",
    "- reciprocal transformation"
   ]
  },
  {
   "cell_type": "code",
   "execution_count": 12,
   "id": "d866544c",
   "metadata": {},
   "outputs": [
    {
     "data": {
      "image/png": "[encoded data removed]",
      "text/plain": [
       "<Figure size 640x480 with 1 Axes>"
      ]
     },
     "metadata": {},
     "output_type": "display_data"
    }
   ],
   "source": [
    "rec_data=np.reciprocal(exp_data)\n",
    "plt.hist(rec_data,bins=40,label='Reciprocal Data')\n",
    "plt.legend()\n",
    "plt.show()"
   ]
  },
  {
   "cell_type": "code",
   "execution_count": 13,
   "id": "12a7775f",
   "metadata": {},
   "outputs": [
    {
     "data": {
      "text/plain": [
       "array([0.5851169 , 1.20025913])"
      ]
     },
     "execution_count": 13,
     "metadata": {},
     "output_type": "execute_result"
    }
   ],
   "source": [
    "exp_data[:2]"
   ]
  },
  {
   "cell_type": "markdown",
   "id": "82c8ba20",
   "metadata": {},
   "source": [
    "$step-5$\n",
    "**sqareroot transformaion**"
   ]
  },
  {
   "cell_type": "code",
   "execution_count": 14,
   "id": "3746f469",
   "metadata": {},
   "outputs": [],
   "source": [
    "sqrt_data=np.sqrt(exp_data)"
   ]
  },
  {
   "cell_type": "code",
   "execution_count": 16,
   "id": "6cc56f11",
   "metadata": {},
   "outputs": [
    {
     "data": {
      "image/png": "[encoded data removed]",
      "text/plain": [
       "<Figure size 1000x500 with 2 Axes>"
      ]
     },
     "metadata": {},
     "output_type": "display_data"
    }
   ],
   "source": [
    "plt.figure(figsize=(10,5))\n",
    "plt.subplot(1,2,1).hist(exp_data,bins=40,label='Exponential')\n",
    "plt.legend()\n",
    "plt.subplot(1,2,2).hist(sqrt_data,bins=40,label='Square root Transformation')\n",
    "plt.legend()\n",
    "plt.show()    "
   ]
  },
  {
   "cell_type": "code",
   "execution_count": 17,
   "id": "f911dc5e",
   "metadata": {},
   "outputs": [
    {
     "name": "stderr",
     "output_type": "stream",
     "text": [
      "D:\\Users\\hp\\anaconda3\\Lib\\site-packages\\seaborn\\axisgrid.py:118: UserWarning: The figure layout has changed to tight\n",
      "  self._figure.tight_layout(*args, **kwargs)\n"
     ]
    },
    {
     "data": {
      "text/plain": [
       "<seaborn.axisgrid.FacetGrid at 0x1451eb28a10>"
      ]
     },
     "execution_count": 17,
     "metadata": {},
     "output_type": "execute_result"
    },
    {
     "data": {
      "image/png": "[encoded data removed]",
      "text/plain": [
       "<Figure size 500x500 with 1 Axes>"
      ]
     },
     "metadata": {},
     "output_type": "display_data"
    }
   ],
   "source": [
    "import seaborn as sns\n",
    "sns.displot(sqrt_data)"
   ]
  },
  {
   "cell_type": "markdown",
   "id": "298f7995",
   "metadata": {},
   "source": [
    "$step-6$\n",
    "**power transformer**\n",
    "- it is related to sklearn package\n",
    "- package name:skleran.preprocessing\n",
    "- method name:power transformer\n",
    "- inside box-cox,yeo-jhonson"
   ]
  },
  {
   "cell_type": "code",
   "execution_count": 18,
   "id": "c111cbea",
   "metadata": {},
   "outputs": [
    {
     "data": {
      "text/plain": [
       "array([5.85116903e-01, 1.20025913e+00, 2.68094833e-02, 1.68218851e+00,\n",
       "       2.15971714e+00, 2.16867995e-01, 1.97619587e+00, 1.57828231e+00,\n",
       "       8.22636058e-01, 1.93522948e+00, 1.68456097e-01, 5.98665710e-01,\n",
       "       1.81922970e-01, 1.47145424e-01, 9.77754986e-01, 1.07539403e+00,\n",
       "       1.21277566e+00, 1.24667580e+00, 1.53660469e+00, 4.98765774e-01,\n",
       "       6.96522173e-01, 2.83796441e-01, 5.68813351e-01, 5.00879397e-01,\n",
       "       5.86315929e-01, 1.91413680e+00, 1.34086854e+00, 2.71245453e-01,\n",
       "       6.45596076e-01, 2.27033129e-01, 6.58322862e-01, 2.74519328e-02,\n",
       "       8.56833973e-02, 1.01677466e+00, 1.98994427e+00, 3.45126446e+00,\n",
       "       4.04056243e-01, 6.42823331e-01, 1.13534375e-01, 1.86645497e+00,\n",
       "       1.16674284e+00, 4.02699461e+00, 6.63445024e-01, 1.24019172e+00,\n",
       "       2.63286096e-01, 6.93750197e-01, 1.62802409e+00, 1.49426269e+00,\n",
       "       4.63360808e-01, 1.13944035e+00, 1.81743147e+00, 3.12604646e-01,\n",
       "       1.10148890e+00, 1.98160504e+00, 2.84126968e-01, 3.66013725e-01,\n",
       "       1.42667188e+00, 5.46854767e-01, 6.55809420e-01, 4.69107612e+00,\n",
       "       1.84213180e-02, 9.01165861e-01, 1.74990179e+00, 2.55864617e-01,\n",
       "       6.70179889e-01, 3.30115664e+00, 7.22155788e-01, 2.75553780e+00,\n",
       "       1.26792081e+00, 2.88869245e-01, 6.79240712e-01, 1.80513954e+00,\n",
       "       9.35421638e-02, 6.81032421e-01, 1.68251564e+00, 7.65894163e-02,\n",
       "       2.39221292e-02, 9.30351110e-01, 7.58302916e-01, 1.08019020e-01,\n",
       "       6.54311266e-01, 4.75206936e-01, 2.80283982e+00, 8.46976892e-01,\n",
       "       2.42702285e+00, 1.39648006e-04, 3.11107967e-02, 3.55363545e+00,\n",
       "       2.12703488e-01, 1.10295777e+00, 2.30620838e-01, 2.48712825e-01,\n",
       "       3.32454663e+00, 3.12909935e-01, 6.76096473e-01, 8.51874858e-01,\n",
       "       1.89368503e-01, 4.71991609e-02, 2.76706122e+00, 1.58124489e+00,\n",
       "       2.71144741e+00, 3.46606402e-01, 5.12976809e-02, 2.01572920e+00,\n",
       "       5.67051073e-01, 4.71190257e-01, 1.67096892e+00, 1.34918919e+00,\n",
       "       7.53262243e-01, 3.56581692e-01, 4.77777816e-01, 3.37278694e+00,\n",
       "       7.27741636e-01, 3.19022665e-01, 7.15993813e-01, 5.31649998e-01,\n",
       "       4.42988333e-01, 3.32210550e-01, 2.83252059e+00, 1.29451500e+00,\n",
       "       3.75003054e+00, 8.74809286e-01, 3.19956363e-01, 3.66157584e-01,\n",
       "       6.84445637e-01, 3.70089564e-01, 2.03970295e-01, 5.44131369e-02,\n",
       "       7.62734479e-01, 2.68954022e-01, 2.23909272e+00, 3.93194875e-01,\n",
       "       4.29340500e+00, 2.27364635e-01, 2.66274209e-02, 7.04212157e-01,\n",
       "       5.33307723e-01, 9.45216429e-01, 2.31336937e-01, 6.70343187e-01,\n",
       "       2.64432017e+00, 1.59435002e-02, 3.22480127e-01, 2.11008034e-01,\n",
       "       2.05779213e+00, 2.62727899e+00, 2.22441289e+00, 1.88894572e+00,\n",
       "       2.32885028e+00, 1.43860408e-01, 9.24459911e-02, 8.85745233e-01,\n",
       "       1.73588687e+00, 4.13157567e+00, 1.21070041e-02, 2.90257146e-01,\n",
       "       1.02000319e+00, 6.70578519e-02, 1.15473626e+00, 9.16008041e-01,\n",
       "       5.57097940e-01, 1.70569338e+00, 8.46349659e-01, 5.01163844e-01,\n",
       "       1.32794086e-01, 3.39023464e-01, 4.78482545e+00, 1.73430787e+00,\n",
       "       5.64561417e-01, 2.14032325e-02, 8.46563188e-02, 1.00559124e+00,\n",
       "       1.48563197e+00, 2.17197119e-01, 5.84763371e-01, 2.08052120e+00,\n",
       "       7.71894999e-01, 4.82405270e-01, 8.49512816e-01, 5.15448884e-01,\n",
       "       2.81442129e+00, 6.84221169e-01, 6.54221629e-01, 3.49141609e-01,\n",
       "       9.86527304e-01, 1.16167271e+00, 7.52296781e-01, 2.41122449e-02,\n",
       "       1.36273280e+00, 1.44981915e+00, 1.92536928e+00, 1.55481774e+00,\n",
       "       1.87100733e-01, 1.68203150e-01, 3.51008632e+00, 1.53025521e+00,\n",
       "       1.22142066e+00, 1.49844232e+00, 2.70938674e-01, 3.93574267e-01,\n",
       "       4.46434636e-01, 2.48685903e+00, 1.45654640e-02, 3.77447841e-01,\n",
       "       6.15666802e-01, 5.00642354e-01, 4.81749338e-01, 1.83977657e-01,\n",
       "       3.62924999e-01, 8.15507721e-01, 8.31588275e-01, 4.26962836e+00,\n",
       "       2.32382264e+00, 2.10497279e-01, 1.68008861e+00, 9.21892504e-02,\n",
       "       3.03979547e-01, 2.49798739e+00, 3.86580210e+00, 4.06984699e-01,\n",
       "       2.22294278e+00, 2.57227306e-01, 3.24453090e+00, 9.86331770e-02,\n",
       "       3.23640057e-01, 1.11045016e+00, 7.32500680e-01, 1.83786830e+00,\n",
       "       2.92704119e-01, 1.25715597e+00, 6.56129485e-01, 3.36765737e-01,\n",
       "       7.23789637e-01, 5.84821641e-01, 4.52178114e-01, 7.05196892e-01,\n",
       "       4.90361753e-02, 5.56091594e-01, 2.87407534e-01, 1.07675798e-01,\n",
       "       8.37959562e-02, 2.24106622e+00, 6.81616764e-01, 1.73219687e+00,\n",
       "       7.40258575e-01, 2.84316946e-01, 3.53982431e+00, 5.22184467e-01,\n",
       "       2.04600731e-01, 1.37665960e+00, 3.33230985e-01, 3.87995281e-01,\n",
       "       3.14191585e+00, 4.06044086e+00, 1.97282408e+00, 1.68642777e-01,\n",
       "       9.47039793e-01, 2.03641066e+00, 6.51769432e-01, 1.77275095e+00,\n",
       "       1.22107210e+00, 6.99004899e-01, 1.69462428e-02, 2.37783032e-01,\n",
       "       2.80032475e+00, 4.27803541e-01, 1.96638913e+00, 8.00681183e-01,\n",
       "       3.87765306e-01, 4.74718017e-01, 5.08271251e-01, 1.86269581e+00,\n",
       "       1.31260057e+00, 4.50512489e-02, 5.87300237e-01, 1.67567805e+00,\n",
       "       1.48491640e-01, 3.83573848e-01, 1.49723310e+00, 1.45136002e-01,\n",
       "       5.66567082e-02, 3.14611934e-01, 7.18783598e-02, 1.01983107e+00,\n",
       "       6.94722271e-01, 2.55675383e+00, 8.17142363e-01, 1.02978392e+00,\n",
       "       9.10061230e-02, 1.57521540e+00, 1.25712969e+00, 1.66096391e-01,\n",
       "       5.82515959e-01, 2.41823549e+00, 1.21784496e+00, 1.19732417e+00,\n",
       "       3.72955750e-01, 1.33407092e-01, 1.11940020e+00, 2.83912771e-02,\n",
       "       4.13042509e-01, 4.61842859e-01, 6.15614431e-01, 2.83614610e+00,\n",
       "       3.94869269e-01, 2.40308486e+00, 2.55603996e-02, 7.88326741e-02,\n",
       "       1.92610063e-01, 3.92828036e-02, 1.84954143e+00, 1.41095628e+00,\n",
       "       5.13871208e-02, 1.77659143e+00, 2.57916722e-01, 1.97278979e+00,\n",
       "       3.97618578e-01, 7.64442478e-01, 5.78166783e-01, 3.71161365e-01,\n",
       "       4.05249234e+00, 1.73133102e+00, 5.27957572e-01, 2.24354979e-01,\n",
       "       3.24287280e-01, 3.67538096e-01, 9.63466594e-01, 2.32353212e-01,\n",
       "       7.09104166e-01, 1.88320728e-01, 7.03843209e-01, 1.60728494e-01,\n",
       "       1.01718742e+00, 2.60099757e-01, 1.70100368e+00, 1.85862613e+00,\n",
       "       1.28820101e+00, 2.70672438e-01, 1.18662239e+00, 6.02595236e-01,\n",
       "       4.06587326e-01, 3.12683733e-01, 5.82779347e-01, 2.04419482e+00,\n",
       "       1.27273460e+00, 5.01696360e+00, 7.07891430e-01, 1.89923068e+00,\n",
       "       1.19210081e+00, 2.77302218e-01, 7.09507369e-01, 2.73575806e+00,\n",
       "       9.98968133e-01, 2.46472009e-01, 1.29971456e+00, 6.15589382e-01,\n",
       "       6.67688937e-02, 2.29204659e-01, 1.93934085e+00, 1.66222278e+00,\n",
       "       2.72734981e-02, 1.64670571e+00, 1.78697530e+00, 1.99583180e+00,\n",
       "       8.34691236e-01, 1.26803743e+00, 3.24405900e+00, 6.79490683e-01,\n",
       "       1.72389505e-01, 6.74264266e-01, 6.40319952e-01, 2.13880807e+00,\n",
       "       1.19876279e+00, 8.12385192e-01, 5.31138148e-01, 5.38964467e-01,\n",
       "       1.11909017e+00, 1.21704633e+00, 1.32801063e-01, 1.23136294e+00,\n",
       "       4.91847184e-01, 2.59488326e+00, 3.83624159e-01, 1.41873627e-01,\n",
       "       9.38777980e-01, 1.54764821e+00, 3.31615916e-01, 1.59412297e+00,\n",
       "       3.56828730e-01, 1.21001811e+00, 7.16897738e-01, 5.06198498e-01,\n",
       "       1.10403291e+00, 4.93327621e+00, 9.62088994e-01, 2.71360247e+00,\n",
       "       1.04117146e+00, 1.58781724e+00, 6.98075812e-01, 2.87148539e-01,\n",
       "       4.35756066e-01, 1.49209228e+00, 1.62418817e-02, 3.25120159e+00,\n",
       "       2.91563578e+00, 1.09601951e+00, 1.56693545e-01, 2.63572260e-01,\n",
       "       8.59024504e-01, 6.50386474e-02, 1.14044931e+00, 3.66110923e-01,\n",
       "       4.57863167e-01, 1.80895572e+00, 1.24898455e+00, 5.49704523e+00,\n",
       "       2.69281174e-01, 1.52947920e-01, 5.10481384e-01, 6.92577331e-01,\n",
       "       8.71764570e-01, 4.39028765e-01, 7.86779953e-01, 1.49560344e-01,\n",
       "       4.59196621e-01, 1.47931983e+00, 7.79273080e-01, 7.36199336e-01,\n",
       "       1.52148976e+00, 1.00044556e-01, 7.25725544e-01, 1.28494065e+00,\n",
       "       6.27915017e-01, 2.61920273e+00, 7.73598179e-01, 7.53920441e-01,\n",
       "       1.04713463e+00, 2.10812206e+00, 1.01153717e+00, 8.69167622e-01,\n",
       "       3.76664070e-01, 2.17131595e+00, 2.42686579e+00, 3.43004458e+00,\n",
       "       1.12521642e+00, 1.05332296e+00, 1.26425195e+00, 4.60243500e-01,\n",
       "       5.77347080e+00, 3.95678662e+00, 1.04009259e-01, 3.65064577e-01,\n",
       "       2.26336096e-01, 1.28358710e-01, 6.92697715e-02, 1.40373002e+00,\n",
       "       1.76929647e+00, 2.20054918e+00, 5.85210022e-01, 4.50711343e+00,\n",
       "       2.83760037e-02, 6.81543387e-02, 1.83404759e-01, 9.27860659e-01,\n",
       "       3.12052555e-02, 5.82613319e-01, 6.38224275e-01, 1.09581097e+00,\n",
       "       4.24176916e-01, 2.21282246e-02, 5.88760076e-01, 1.07761894e+00,\n",
       "       1.54743212e-01, 1.36809218e+00, 5.43928773e-01, 3.63850163e-01,\n",
       "       5.57465001e-03, 7.96550570e-01, 2.88163445e-01, 7.17353963e-02,\n",
       "       1.63744633e-01, 5.40956571e-01, 5.07522199e-01, 2.76615478e+00,\n",
       "       1.24398898e+00, 3.90923676e-01, 1.41972794e+00, 1.22591265e+00,\n",
       "       2.04895344e+00, 1.50965983e+00, 7.90338082e-02, 8.20410331e-01,\n",
       "       1.71587164e+00, 9.85202498e-01, 2.10146728e-01, 1.77262462e+00,\n",
       "       3.58311084e+00, 1.27817037e-01, 2.75082192e+00, 9.33426232e-01,\n",
       "       1.10354403e-01, 4.12520886e-01, 8.96329684e-01, 1.65503188e-02,\n",
       "       1.75237634e+00, 1.31569065e+00, 3.79007492e-01, 5.17600517e-01,\n",
       "       3.20692849e-03, 7.82999814e-02, 1.88580673e-01, 2.14188246e-01,\n",
       "       1.06505862e+00, 1.81267361e-01, 9.02825426e-02, 1.70162658e+00,\n",
       "       8.55740045e-03, 1.06006655e-01, 3.90240022e+00, 9.03314125e-01,\n",
       "       4.30165294e-01, 1.59737539e+00, 1.13582831e+00, 5.57114070e-01,\n",
       "       1.59230794e+00, 4.64531060e-01, 1.07392305e+00, 1.27924142e+00,\n",
       "       1.74882015e+00, 2.86378571e+00, 8.82216868e-01, 1.80685304e+00,\n",
       "       5.27368615e-01, 5.26498271e-02, 1.08500273e+00, 1.29282006e-01,\n",
       "       9.42022150e-01, 3.12015233e-02, 4.25930955e-02, 1.15649345e+00,\n",
       "       8.79043074e-01, 2.43206221e-01, 3.71265702e+00, 1.66676978e+00,\n",
       "       8.13010371e-01, 5.40735458e-01, 1.15105815e+00, 3.68192426e-01,\n",
       "       3.73312150e-01, 4.58694716e-01, 1.42897444e-02, 8.65706140e-01,\n",
       "       1.32853818e+00, 1.97425394e+00, 1.52358372e-01, 1.12411294e+00,\n",
       "       6.72903706e-01, 1.39657701e-01, 1.07004061e+00, 1.41353977e+00,\n",
       "       1.52956263e+00, 3.51011277e-02, 1.53450492e+00, 1.19771966e-01,\n",
       "       1.06753784e+00, 1.56051555e+00, 4.97315089e-02, 4.95856280e-01,\n",
       "       3.27246211e-01, 2.96488427e-01, 2.60685667e-01, 1.80576114e+00,\n",
       "       1.02882798e+00, 4.87942364e-01, 1.64878466e+00, 1.02823253e+00,\n",
       "       1.05638788e+00, 2.66551561e-01, 1.03731934e+00, 2.89989678e-01,\n",
       "       3.16967682e-02, 4.20333509e-01, 1.71382547e+00, 5.46286517e-01,\n",
       "       2.02048153e-01, 1.20712286e+00, 1.13834243e+00, 2.53991839e-01,\n",
       "       1.01817310e+00, 2.41382168e+00, 4.21968293e-01, 5.45631259e-02,\n",
       "       1.86601359e-01, 2.76509850e-01, 1.71441518e+00, 1.69749825e+00,\n",
       "       2.84137547e-01, 2.62436790e-01, 8.00308931e-01, 1.45650924e+00,\n",
       "       2.81796132e+00, 2.92864759e+00, 2.31541392e+00, 2.11091422e-01,\n",
       "       8.99805498e-01, 7.34955909e-01, 1.60417086e+00, 1.04346839e+00,\n",
       "       2.66912727e-01, 2.56561285e-01, 1.47515277e+00, 8.40079784e-01,\n",
       "       1.50854452e-01, 1.44992561e-01, 2.43425910e-01, 8.95344914e-01,\n",
       "       1.82921769e-01, 3.57242000e+00, 4.66851224e-01, 1.53887139e+00,\n",
       "       4.50924984e-01, 6.05372391e-01, 2.46172972e+00, 1.83876661e-01,\n",
       "       9.99851752e-01, 1.32673281e+00, 1.25762115e+00, 1.22654310e+00,\n",
       "       3.28606507e-01, 5.77055440e-01, 4.91546855e-02, 7.78374297e-01,\n",
       "       7.23028416e-01, 2.36722530e+00, 7.91721713e-01, 2.09587050e+00,\n",
       "       2.68976685e-01, 3.76496675e-01, 2.30921260e+00, 2.56665962e-01,\n",
       "       1.26792048e+00, 2.72009372e-02, 1.25598820e+00, 1.13575124e+00,\n",
       "       8.78840012e-01, 5.75606913e-01, 6.59423071e-01, 1.11050041e+00,\n",
       "       2.12913038e+00, 2.40006030e+00, 1.00855246e+00, 6.94769043e-02,\n",
       "       1.47000135e-01, 3.07848425e-01, 1.22359825e-01, 2.22663576e-02,\n",
       "       1.06940615e+00, 1.02818784e+00, 4.51928187e-01, 9.69195319e-01,\n",
       "       5.42114801e-01, 4.34882728e-01, 2.38287652e-01, 5.77662103e-01,\n",
       "       9.43917582e-01, 2.74405466e-01, 2.02533931e-01, 6.80244062e-01,\n",
       "       4.31492072e-01, 4.80197260e-01, 1.51060774e+00, 5.83017807e-01,\n",
       "       3.01180965e+00, 3.64193416e-01, 8.16709729e-02, 1.72225498e-01,\n",
       "       9.69698064e-02, 2.28848368e+00, 3.09885401e-01, 7.06671934e-01,\n",
       "       2.05399167e+00, 2.99800872e+00, 1.90395330e+00, 2.81304748e-01,\n",
       "       5.21710161e-01, 1.18237975e+00, 3.36887492e-01, 7.16022470e-02,\n",
       "       8.02280489e-01, 1.86589361e+00, 1.32876525e+00, 9.67722144e-01,\n",
       "       5.51085008e-01, 1.25343987e+00, 2.64538214e-01, 1.42470586e+00,\n",
       "       4.92043494e-04, 3.83590218e-01, 1.87374454e+00, 6.63613851e-01,\n",
       "       1.26412334e+00, 3.89107842e+00, 3.23046881e-01, 7.77715856e-01,\n",
       "       2.62286016e+00, 1.18539830e+00, 8.79298703e-01, 1.32561867e-01,\n",
       "       1.28891163e+00, 1.16844697e+00, 8.72798680e-01, 9.78893039e-01,\n",
       "       3.60470170e-01, 2.60434295e+00, 1.48821188e-01, 2.13322355e+00,\n",
       "       1.09781638e+00, 1.19654408e-01, 5.64266455e-01, 4.84115142e-02,\n",
       "       1.50498708e-01, 1.92150501e-01, 3.61266807e-01, 3.84042426e-01,\n",
       "       1.10773100e+00, 8.89825844e-01, 1.10507773e+00, 1.22060778e+00,\n",
       "       1.83734452e+00, 5.81545964e+00, 2.56685660e-01, 5.85897511e-03,\n",
       "       7.93601652e-01, 3.64293405e-01, 1.30394717e-01, 2.03591315e-01,\n",
       "       9.80389240e-01, 6.31007879e-01, 2.04577621e-01, 1.08034508e-01,\n",
       "       7.13231631e-01, 9.18479816e-01, 8.63809836e-01, 2.03081640e-01,\n",
       "       2.35922427e+00, 7.28201611e-01, 2.01587040e+00, 1.85214485e-01,\n",
       "       3.62818380e-01, 2.95221057e+00, 1.00073520e+00, 1.26394328e-01,\n",
       "       1.03675192e+00, 7.68811277e-01, 8.81545398e-01, 1.19817500e+00,\n",
       "       6.17893075e-01, 1.58587023e+00, 8.52559052e-01, 2.04424514e+00,\n",
       "       2.05859796e-01, 5.98844003e-01, 2.31539287e-01, 6.02522461e-01,\n",
       "       1.06625884e+00, 7.29720328e-01, 1.51730981e+00, 8.43426839e-01,\n",
       "       1.97267030e+00, 2.49163263e-01, 2.89419413e-01, 3.37195447e+00,\n",
       "       2.76529807e-01, 3.99594235e-01, 4.09366805e+00, 2.74304454e+00,\n",
       "       1.70854787e-01, 9.59087160e-02, 8.18686024e-01, 7.74726909e-01,\n",
       "       3.25827216e-01, 6.34476759e-01, 1.24020654e-01, 1.23532428e-01,\n",
       "       2.29871205e-02, 6.76543115e-01, 1.47838609e+00, 9.10876424e-01,\n",
       "       8.47579294e-02, 6.08619779e-01, 5.45667717e-01, 2.20516697e+00,\n",
       "       8.84542177e-01, 1.26791052e+00, 2.19272419e-01, 1.84590460e-01,\n",
       "       1.15007583e-01, 3.72709390e-01, 1.84018002e-01, 1.09993834e+00,\n",
       "       7.69825146e-01, 1.95226531e+00, 2.95432722e+00, 2.19290600e+00,\n",
       "       1.04605769e+00, 5.62908600e-02, 1.75806426e+00, 6.54624128e-03,\n",
       "       9.74318628e-01, 3.59029489e-01, 5.78688599e-02, 2.37240468e+00,\n",
       "       3.30411647e+00, 1.68836643e+00, 1.19173202e-01, 1.05925971e+00,\n",
       "       3.04550355e-01, 2.17931984e+00, 9.21077783e-02, 2.38498304e+00,\n",
       "       1.47046068e-01, 2.76642651e+00, 4.85358649e-01, 1.03197232e+00,\n",
       "       3.04554629e-01, 8.34000014e-01, 1.55874999e+00, 4.61139995e-01,\n",
       "       2.67321931e-01, 6.90354008e-03, 3.04146451e-01, 8.17716275e-01,\n",
       "       3.75349756e+00, 5.94456453e-01, 1.08057898e+00, 8.96414400e-02,\n",
       "       3.35760870e-02, 9.21794083e-01, 1.14353397e-01, 1.14360497e+00,\n",
       "       1.90240558e+00, 3.02481063e-01, 1.32928255e+00, 1.77964637e-01,\n",
       "       4.17540769e-01, 2.83861693e-01, 9.06916151e-02, 4.18047113e-01,\n",
       "       9.88399454e-01, 2.75567063e-01, 1.24519998e-01, 1.55298407e+00,\n",
       "       7.57799907e-01, 4.48056350e-01, 8.51785838e-01, 1.09296647e+00,\n",
       "       1.05527420e+00, 1.25936614e+00, 8.36922115e-03, 5.25967113e-01,\n",
       "       4.39884038e-01, 9.67603713e-01, 2.54872746e-01, 1.58820235e-02,\n",
       "       3.73824443e-01, 9.20945824e-01, 6.47234388e-01, 7.86313511e-01,\n",
       "       1.05740491e-01, 7.56918521e-01, 1.07038114e+00, 1.51828405e-01,\n",
       "       2.42809573e-01, 4.74222723e-01, 3.13953882e-01, 2.95857558e+00,\n",
       "       9.51124360e-01, 5.26405424e-01, 3.00782913e-01, 1.79943594e-01,\n",
       "       1.81345839e+00, 1.04903581e+00, 6.14602845e-01, 9.86105855e-01,\n",
       "       8.02526440e-01, 1.99077496e-01, 2.46490509e-01, 2.88652584e-01,\n",
       "       1.27256600e+00, 4.83484870e-01, 1.84586134e+00, 1.12500542e+00,\n",
       "       8.78347983e-01, 1.94639367e+00, 1.33599242e+00, 3.49504311e-01,\n",
       "       3.67815151e-01, 8.32561213e-01, 1.60659757e+00, 8.37634769e-01,\n",
       "       1.57976973e+00, 1.27426942e+00, 1.19014712e+00, 1.48792687e-01,\n",
       "       4.00628422e-01, 3.60930499e-01, 3.14469259e-02, 1.52001692e+00,\n",
       "       8.12064506e-01, 1.67426260e+00, 7.51922770e-01, 1.72198815e+00,\n",
       "       3.31826347e-02, 1.32429679e-01, 2.77850996e-01, 2.81926658e-01,\n",
       "       1.62907199e-02, 1.71844696e-01, 1.54775556e+00, 1.22292794e+00,\n",
       "       1.90087053e-01, 4.30709867e-01, 9.63720953e-01, 2.63203501e+00,\n",
       "       1.62499606e+00, 2.77329246e-01, 1.78989602e+00, 4.27052386e-01,\n",
       "       1.11410785e+00, 2.66981534e-01, 1.38444137e+00, 2.52186042e+00,\n",
       "       3.26122250e-02, 4.10806694e+00, 8.89685347e-01, 1.92999658e+00,\n",
       "       1.76131063e+00, 1.14653971e+00, 8.53167030e-02, 2.82951173e+00,\n",
       "       1.51018308e-01, 5.74557890e-01, 5.65845154e-01, 4.39995261e-01,\n",
       "       1.10098668e+00, 9.82616993e-01, 5.00118730e-01, 6.98527718e-01,\n",
       "       1.72890323e+00, 1.22506004e+00, 1.42988096e+00, 4.39787380e-01,\n",
       "       4.03073692e-01, 1.28390185e+00, 3.25149142e-01, 7.25068067e-02,\n",
       "       2.74109358e-01, 2.24144843e-01, 1.22492350e-01, 1.33728496e+00,\n",
       "       3.78913892e+00, 1.81463955e-01, 8.40905347e-02, 3.85630661e-01,\n",
       "       2.97512398e+00, 1.26669881e+00, 2.10207633e-01, 3.38440636e-01,\n",
       "       1.78224709e-01, 2.88889211e-01, 2.08785967e-01, 9.83042287e-01,\n",
       "       5.37919902e-01, 2.05886300e-01, 1.39674368e+00, 7.65742189e-01,\n",
       "       1.77566272e-01, 2.30077299e+00, 3.56810276e-01, 1.66224446e-01,\n",
       "       7.17438231e-01, 8.97009859e-01, 5.02734690e-01, 2.38602645e-01,\n",
       "       9.27339751e-01, 4.73528239e-01, 1.05392189e+00, 2.51443301e-01,\n",
       "       4.17694747e-01, 2.80345385e-03, 3.22989055e-01, 1.45355173e+00,\n",
       "       1.49127964e+00, 5.26658232e-01, 1.99673789e+00, 1.99275112e+00,\n",
       "       2.33759642e+00, 1.67384672e+00, 1.32399164e-01, 1.05551121e-01])"
      ]
     },
     "execution_count": 18,
     "metadata": {},
     "output_type": "execute_result"
    }
   ],
   "source": [
    "exp_data"
   ]
  },
  {
   "cell_type": "code",
   "execution_count": 13,
   "id": "5c9751b4",
   "metadata": {},
   "outputs": [],
   "source": [
    "from sklearn.preprocessing import PowerTransformer\n",
    "pt=PowerTransformer()\n",
    "pt_data=pt.fit([exp_data]).transform([exp_data])"
   ]
  },
  {
   "cell_type": "code",
   "execution_count": 14,
   "id": "099c05aa",
   "metadata": {},
   "outputs": [
    {
     "data": {
      "text/plain": [
       "array([[ 0.00000000e+00,  1.11022302e-16,  0.00000000e+00,\n",
       "        -5.55111512e-17,  5.37764278e-17,  5.55111512e-17,\n",
       "        -5.55111512e-17, -1.11022302e-16,  0.00000000e+00,\n",
       "         0.00000000e+00, -6.93889390e-17,  2.22044605e-16,\n",
       "         0.00000000e+00,  0.00000000e+00, -4.44089210e-16,\n",
       "         8.32667268e-17,  2.77555756e-17,  1.11022302e-16,\n",
       "         2.22044605e-16,  1.11022302e-16, -1.11022302e-16,\n",
       "         5.55111512e-17, -2.22044605e-16, -4.44089210e-16,\n",
       "        -2.22044605e-16,  0.00000000e+00,  0.00000000e+00,\n",
       "        -2.22044605e-16,  1.11022302e-16,  0.00000000e+00,\n",
       "         5.55111512e-17,  0.00000000e+00,  9.71445147e-17,\n",
       "         3.46944695e-18,  1.11022302e-16, -1.11022302e-16,\n",
       "         0.00000000e+00,  0.00000000e+00, -2.77555756e-17,\n",
       "        -8.32667268e-17, -2.77555756e-17,  1.11022302e-16,\n",
       "         5.55111512e-17, -2.77555756e-17,  0.00000000e+00,\n",
       "        -6.93889390e-17,  8.32667268e-17,  1.11022302e-16,\n",
       "         1.11022302e-16,  0.00000000e+00,  0.00000000e+00,\n",
       "         0.00000000e+00,  0.00000000e+00,  5.55111512e-17,\n",
       "         8.32667268e-17,  0.00000000e+00, -2.22044605e-16,\n",
       "         0.00000000e+00,  2.22044605e-16, -1.11022302e-16,\n",
       "        -2.22044605e-16,  3.46944695e-18, -2.22044605e-16,\n",
       "        -5.55111512e-17,  1.11022302e-16, -2.77555756e-17,\n",
       "         1.11022302e-16,  0.00000000e+00, -1.11022302e-16,\n",
       "         0.00000000e+00, -8.32667268e-17,  1.11022302e-16,\n",
       "        -8.32667268e-17,  0.00000000e+00,  0.00000000e+00,\n",
       "         0.00000000e+00,  1.73472348e-17,  1.11022302e-16,\n",
       "         0.00000000e+00,  0.00000000e+00,  2.22044605e-16,\n",
       "        -2.77555756e-17,  2.77555756e-17, -5.55111512e-17,\n",
       "         1.11022302e-16,  0.00000000e+00,  2.22044605e-16,\n",
       "        -8.32667268e-17,  0.00000000e+00,  0.00000000e+00,\n",
       "         1.11022302e-16, -2.22044605e-16, -5.55111512e-17,\n",
       "         0.00000000e+00,  2.22044605e-16, -1.11022302e-16,\n",
       "         3.81639165e-17, -1.11022302e-16, -2.22044605e-16,\n",
       "        -5.55111512e-17,  1.11022302e-16,  4.44089210e-16,\n",
       "         0.00000000e+00,  2.22044605e-16, -8.32667268e-17,\n",
       "        -2.22044605e-16, -1.11022302e-16,  0.00000000e+00,\n",
       "         0.00000000e+00, -1.11022302e-16, -5.55111512e-17,\n",
       "         2.77555756e-17,  0.00000000e+00,  0.00000000e+00,\n",
       "        -2.22044605e-16,  0.00000000e+00, -1.11022302e-16,\n",
       "         5.55111512e-17,  0.00000000e+00,  0.00000000e+00,\n",
       "         1.11022302e-16,  0.00000000e+00,  0.00000000e+00,\n",
       "         8.32667268e-17, -5.55111512e-17,  0.00000000e+00,\n",
       "         2.08166817e-17,  0.00000000e+00, -2.22044605e-16,\n",
       "         7.63278329e-17,  0.00000000e+00,  5.55111512e-17,\n",
       "         0.00000000e+00,  1.11022302e-16, -2.22044605e-16,\n",
       "         0.00000000e+00,  6.24500451e-17,  1.11022302e-16,\n",
       "        -1.11022302e-16,  5.55111512e-17, -3.12250226e-17,\n",
       "        -2.22044605e-16,  0.00000000e+00, -1.11022302e-16,\n",
       "        -3.46944695e-17,  0.00000000e+00,  0.00000000e+00,\n",
       "         0.00000000e+00,  0.00000000e+00,  0.00000000e+00,\n",
       "        -2.22044605e-16,  0.00000000e+00,  0.00000000e+00,\n",
       "         7.63278329e-17, -4.44089210e-16,  1.11022302e-16,\n",
       "        -5.55111512e-17,  0.00000000e+00, -2.22044605e-16,\n",
       "         0.00000000e+00,  5.55111512e-17,  5.55111512e-17,\n",
       "         2.22044605e-16,  4.44089210e-16, -1.11022302e-16,\n",
       "        -1.11022302e-16,  0.00000000e+00,  1.11022302e-16,\n",
       "        -8.32667268e-17,  0.00000000e+00,  0.00000000e+00,\n",
       "        -5.55111512e-17,  5.55111512e-17,  1.38777878e-17,\n",
       "         0.00000000e+00,  0.00000000e+00,  2.22044605e-16,\n",
       "         0.00000000e+00, -2.22044605e-16,  1.11022302e-16,\n",
       "         0.00000000e+00, -5.55111512e-17, -8.32667268e-17,\n",
       "         0.00000000e+00,  0.00000000e+00, -9.71445147e-17,\n",
       "         2.77555756e-17, -2.22044605e-16,  1.11022302e-16,\n",
       "        -2.22044605e-16,  2.22044605e-16, -5.55111512e-17,\n",
       "         2.22044605e-16,  0.00000000e+00,  0.00000000e+00,\n",
       "         2.22044605e-16, -1.11022302e-16,  0.00000000e+00,\n",
       "         1.11022302e-16,  5.55111512e-17,  0.00000000e+00,\n",
       "         0.00000000e+00, -2.22044605e-16, -1.11022302e-16,\n",
       "        -2.77555756e-17,  2.22044605e-16,  2.77555756e-17,\n",
       "        -5.55111512e-17,  0.00000000e+00,  0.00000000e+00,\n",
       "        -2.22044605e-16, -2.22044605e-16,  0.00000000e+00,\n",
       "        -1.11022302e-16,  0.00000000e+00,  1.11022302e-16,\n",
       "         5.55111512e-17,  0.00000000e+00,  5.55111512e-17,\n",
       "        -2.22044605e-16,  0.00000000e+00, -2.08166817e-17,\n",
       "         1.11022302e-16,  1.11022302e-16,  5.55111512e-17,\n",
       "         0.00000000e+00,  5.55111512e-17,  9.71445147e-17,\n",
       "         0.00000000e+00,  2.22044605e-16, -2.22044605e-16,\n",
       "         0.00000000e+00,  0.00000000e+00, -2.77555756e-17,\n",
       "         0.00000000e+00,  0.00000000e+00, -2.77555756e-17,\n",
       "         9.71445147e-17,  0.00000000e+00,  0.00000000e+00,\n",
       "         1.11022302e-16,  1.11022302e-16, -2.22044605e-16,\n",
       "         5.55111512e-17,  0.00000000e+00,  0.00000000e+00,\n",
       "         2.77555756e-17,  0.00000000e+00,  0.00000000e+00,\n",
       "         6.93889390e-17, -1.11022302e-16, -1.11022302e-16,\n",
       "         2.22044605e-16, -1.11022302e-16,  0.00000000e+00,\n",
       "         5.55111512e-17,  0.00000000e+00, -6.24500451e-17,\n",
       "         1.11022302e-16,  4.85722573e-17,  0.00000000e+00,\n",
       "        -2.22044605e-16,  0.00000000e+00,  1.11022302e-16,\n",
       "         2.22044605e-16,  0.00000000e+00, -4.44089210e-16,\n",
       "        -1.11022302e-16, -7.28583860e-17, -5.55111512e-17,\n",
       "         0.00000000e+00, -1.11022302e-16,  0.00000000e+00,\n",
       "        -2.22044605e-16,  0.00000000e+00,  0.00000000e+00,\n",
       "         0.00000000e+00,  4.85722573e-17, -2.77555756e-17,\n",
       "        -2.22044605e-16,  0.00000000e+00,  0.00000000e+00,\n",
       "        -1.11022302e-16,  9.71445147e-17,  0.00000000e+00,\n",
       "         5.55111512e-17,  0.00000000e+00,  0.00000000e+00,\n",
       "        -1.11022302e-16,  2.22044605e-16, -5.55111512e-17,\n",
       "         0.00000000e+00,  2.22044605e-16,  0.00000000e+00,\n",
       "        -1.11022302e-16,  0.00000000e+00,  0.00000000e+00,\n",
       "         1.38777878e-17,  0.00000000e+00,  1.11022302e-16,\n",
       "         0.00000000e+00, -5.55111512e-17, -5.55111512e-17,\n",
       "         0.00000000e+00,  0.00000000e+00,  1.11022302e-16,\n",
       "         0.00000000e+00,  0.00000000e+00,  5.55111512e-17,\n",
       "         0.00000000e+00,  0.00000000e+00, -2.22044605e-16,\n",
       "        -5.55111512e-17, -1.11022302e-16,  2.22044605e-16,\n",
       "        -1.11022302e-16,  1.11022302e-16,  0.00000000e+00,\n",
       "         0.00000000e+00,  0.00000000e+00,  0.00000000e+00,\n",
       "         4.44089210e-16,  0.00000000e+00, -1.11022302e-16,\n",
       "         8.32667268e-17,  0.00000000e+00, -2.22044605e-16,\n",
       "         7.63278329e-17,  5.55111512e-17,  0.00000000e+00,\n",
       "         0.00000000e+00,  0.00000000e+00,  0.00000000e+00,\n",
       "        -2.22044605e-16,  0.00000000e+00,  0.00000000e+00,\n",
       "         0.00000000e+00,  8.32667268e-17,  8.32667268e-17,\n",
       "        -5.55111512e-17,  0.00000000e+00,  0.00000000e+00,\n",
       "         0.00000000e+00, -2.22044605e-16,  0.00000000e+00,\n",
       "        -1.38777878e-17, -2.22044605e-16, -5.55111512e-17,\n",
       "         0.00000000e+00,  0.00000000e+00,  2.22044605e-16,\n",
       "         1.11022302e-16, -4.16333634e-17,  0.00000000e+00,\n",
       "        -3.46944695e-18,  2.22044605e-16, -1.11022302e-16,\n",
       "         0.00000000e+00, -5.55111512e-17,  0.00000000e+00,\n",
       "        -1.11022302e-16,  0.00000000e+00, -8.32667268e-17,\n",
       "         1.11022302e-16,  9.71445147e-17,  0.00000000e+00,\n",
       "         0.00000000e+00, -2.22044605e-16,  0.00000000e+00,\n",
       "        -2.77555756e-17,  0.00000000e+00,  5.55111512e-17,\n",
       "         0.00000000e+00, -1.11022302e-16, -2.22044605e-16,\n",
       "        -5.55111512e-17,  2.77555756e-17, -2.22044605e-16,\n",
       "         0.00000000e+00,  0.00000000e+00,  1.11022302e-16,\n",
       "         0.00000000e+00,  0.00000000e+00,  0.00000000e+00,\n",
       "         1.11022302e-16, -1.11022302e-16,  0.00000000e+00,\n",
       "         0.00000000e+00,  0.00000000e+00, -1.11022302e-16,\n",
       "         1.11022302e-16,  0.00000000e+00,  0.00000000e+00,\n",
       "         0.00000000e+00,  0.00000000e+00, -8.32667268e-17,\n",
       "        -4.44089210e-16,  0.00000000e+00,  5.55111512e-17,\n",
       "         0.00000000e+00,  0.00000000e+00,  0.00000000e+00,\n",
       "        -1.11022302e-16,  1.11022302e-16,  5.55111512e-17,\n",
       "         4.16333634e-17,  1.11022302e-16,  0.00000000e+00,\n",
       "        -1.11022302e-16, -2.60208521e-17, -1.11022302e-16,\n",
       "         0.00000000e+00, -5.55111512e-17,  0.00000000e+00,\n",
       "         0.00000000e+00, -2.22044605e-16,  4.44089210e-16,\n",
       "         2.22044605e-16,  0.00000000e+00,  1.11022302e-16,\n",
       "         2.22044605e-16,  2.22044605e-16, -2.22044605e-16,\n",
       "         0.00000000e+00,  0.00000000e+00,  6.93889390e-17,\n",
       "         0.00000000e+00, -1.11022302e-16,  0.00000000e+00,\n",
       "         0.00000000e+00, -2.22044605e-16, -5.55111512e-17,\n",
       "        -5.55111512e-17, -8.32667268e-17, -1.11022302e-16,\n",
       "         5.55111512e-17,  0.00000000e+00,  0.00000000e+00,\n",
       "        -1.11022302e-16,  5.55111512e-17, -8.50014503e-17,\n",
       "         2.22044605e-16,  0.00000000e+00, -1.11022302e-16,\n",
       "         0.00000000e+00, -2.22044605e-16, -1.11022302e-16,\n",
       "         0.00000000e+00,  1.11022302e-16,  0.00000000e+00,\n",
       "         2.22044605e-16,  0.00000000e+00,  1.11022302e-16,\n",
       "        -8.32667268e-17,  1.11022302e-16, -1.11022302e-16,\n",
       "         0.00000000e+00, -5.55111512e-17,  5.55111512e-17,\n",
       "         1.11022302e-16, -4.16333634e-17, -1.11022302e-16,\n",
       "        -2.22044605e-16,  0.00000000e+00,  1.38777878e-17,\n",
       "         0.00000000e+00, -5.55111512e-17,  0.00000000e+00,\n",
       "         0.00000000e+00,  0.00000000e+00,  0.00000000e+00,\n",
       "        -1.11022302e-16,  0.00000000e+00, -5.55111512e-17,\n",
       "         0.00000000e+00, -5.55111512e-17,  6.93889390e-17,\n",
       "        -2.22044605e-16,  0.00000000e+00, -1.11022302e-16,\n",
       "        -2.22044605e-16, -2.77555756e-17,  0.00000000e+00,\n",
       "         0.00000000e+00,  8.32667268e-17,  1.11022302e-16,\n",
       "        -5.55111512e-17,  5.55111512e-17,  5.55111512e-17,\n",
       "         1.11022302e-16,  0.00000000e+00,  0.00000000e+00,\n",
       "         1.11022302e-16,  0.00000000e+00, -2.22044605e-16,\n",
       "         0.00000000e+00,  2.77555756e-17,  0.00000000e+00,\n",
       "         0.00000000e+00,  0.00000000e+00,  0.00000000e+00,\n",
       "         0.00000000e+00, -3.81639165e-17, -8.32667268e-17,\n",
       "         1.11022302e-16, -2.22044605e-16,  1.11022302e-16,\n",
       "        -5.55111512e-17, -5.55111512e-17,  5.55111512e-17,\n",
       "         0.00000000e+00,  0.00000000e+00,  0.00000000e+00,\n",
       "         2.77555756e-17,  0.00000000e+00,  2.22044605e-16,\n",
       "        -2.22044605e-16,  0.00000000e+00,  0.00000000e+00,\n",
       "        -5.55111512e-17,  8.32667268e-17,  0.00000000e+00,\n",
       "        -8.32667268e-17,  0.00000000e+00,  0.00000000e+00,\n",
       "         1.11022302e-16,  0.00000000e+00,  0.00000000e+00,\n",
       "         0.00000000e+00,  1.11022302e-16, -1.11022302e-16,\n",
       "        -2.22044605e-16,  7.15573434e-17,  0.00000000e+00,\n",
       "        -5.55111512e-17, -1.11022302e-16, -1.11022302e-16,\n",
       "         0.00000000e+00, -2.22044605e-16,  0.00000000e+00,\n",
       "        -5.55111512e-17,  0.00000000e+00,  1.11022302e-16,\n",
       "         0.00000000e+00,  4.44089210e-16,  8.32667268e-17,\n",
       "        -2.22044605e-16, -1.11022302e-16, -5.89805982e-17,\n",
       "         0.00000000e+00,  0.00000000e+00,  0.00000000e+00,\n",
       "         2.22044605e-16, -5.55111512e-17,  0.00000000e+00,\n",
       "         0.00000000e+00,  0.00000000e+00, -5.55111512e-17,\n",
       "         0.00000000e+00, -2.22044605e-16,  2.22044605e-16,\n",
       "         1.11022302e-16,  4.16333634e-17, -5.55111512e-17,\n",
       "        -1.11022302e-16, -1.11022302e-16,  0.00000000e+00,\n",
       "         2.22044605e-16,  0.00000000e+00,  0.00000000e+00,\n",
       "         0.00000000e+00,  0.00000000e+00,  0.00000000e+00,\n",
       "        -1.11022302e-16,  0.00000000e+00,  0.00000000e+00,\n",
       "         2.22044605e-16, -5.55111512e-17,  2.22044605e-16,\n",
       "         0.00000000e+00,  0.00000000e+00,  2.22044605e-16,\n",
       "         2.22044605e-16,  0.00000000e+00, -2.22044605e-16,\n",
       "        -2.22044605e-16,  0.00000000e+00, -3.46944695e-17,\n",
       "        -5.55111512e-17, -8.32667268e-17,  0.00000000e+00,\n",
       "        -2.22044605e-16, -2.22044605e-16, -8.32667268e-17,\n",
       "         2.22044605e-16,  2.22044605e-16,  0.00000000e+00,\n",
       "         0.00000000e+00,  0.00000000e+00,  1.11022302e-16,\n",
       "         0.00000000e+00, -1.11022302e-16, -1.11022302e-16,\n",
       "         0.00000000e+00, -4.16333634e-17,  0.00000000e+00,\n",
       "         0.00000000e+00,  0.00000000e+00,  8.23993651e-17,\n",
       "         2.22044605e-16,  8.32667268e-17,  2.22044605e-16,\n",
       "         0.00000000e+00,  5.55111512e-17,  5.55111512e-17,\n",
       "        -8.32667268e-17, -1.11022302e-16, -9.71445147e-17,\n",
       "        -2.22044605e-16,  0.00000000e+00,  2.77555756e-17,\n",
       "         2.22044605e-16,  1.11022302e-16,  0.00000000e+00,\n",
       "         0.00000000e+00, -1.38777878e-17,  0.00000000e+00,\n",
       "         0.00000000e+00,  0.00000000e+00,  2.22044605e-16,\n",
       "         1.11022302e-16, -1.11022302e-16,  0.00000000e+00,\n",
       "         0.00000000e+00,  4.44089210e-16, -2.22044605e-16,\n",
       "         2.22044605e-16,  4.44089210e-16,  0.00000000e+00,\n",
       "         0.00000000e+00, -1.11022302e-16, -2.22044605e-16,\n",
       "         2.22044605e-16,  0.00000000e+00,  0.00000000e+00,\n",
       "         0.00000000e+00,  1.38777878e-17,  2.22044605e-16,\n",
       "         0.00000000e+00, -2.22044605e-16,  1.11022302e-16,\n",
       "         5.55111512e-17,  0.00000000e+00,  0.00000000e+00,\n",
       "         0.00000000e+00,  0.00000000e+00, -4.38017678e-17,\n",
       "         0.00000000e+00, -5.55111512e-17,  1.04083409e-16,\n",
       "         0.00000000e+00,  1.11022302e-16, -2.77555756e-17,\n",
       "         0.00000000e+00,  0.00000000e+00,  0.00000000e+00,\n",
       "         0.00000000e+00,  2.22044605e-16,  0.00000000e+00,\n",
       "         2.22044605e-16,  1.11022302e-16,  5.55111512e-17,\n",
       "        -2.22044605e-16, -8.32667268e-17, -3.46944695e-18,\n",
       "         1.25767452e-17,  0.00000000e+00, -2.22044605e-16,\n",
       "        -5.55111512e-17,  0.00000000e+00, -4.44089210e-16,\n",
       "         0.00000000e+00, -5.55111512e-17, -1.11022302e-16,\n",
       "         0.00000000e+00,  0.00000000e+00, -1.11022302e-16,\n",
       "        -1.11022302e-16, -5.55111512e-17,  5.55111512e-17,\n",
       "         5.55111512e-17,  0.00000000e+00,  0.00000000e+00,\n",
       "        -2.22044605e-16,  0.00000000e+00,  2.77555756e-17,\n",
       "         0.00000000e+00, -2.77555756e-17,  1.11022302e-16,\n",
       "         1.11022302e-16,  0.00000000e+00, -1.11022302e-16,\n",
       "         0.00000000e+00,  5.55111512e-17,  2.22044605e-16,\n",
       "        -1.11022302e-16,  1.11022302e-16,  0.00000000e+00,\n",
       "         2.22044605e-16,  2.22044605e-16,  8.32667268e-17,\n",
       "         0.00000000e+00, -8.32667268e-17,  5.55111512e-17,\n",
       "         0.00000000e+00,  1.38777878e-17,  0.00000000e+00,\n",
       "         0.00000000e+00,  0.00000000e+00,  0.00000000e+00,\n",
       "         0.00000000e+00,  0.00000000e+00, -1.11022302e-16,\n",
       "         0.00000000e+00,  1.11022302e-16,  0.00000000e+00,\n",
       "        -5.55111512e-17,  0.00000000e+00,  8.32667268e-17,\n",
       "         0.00000000e+00, -2.22044605e-16,  0.00000000e+00,\n",
       "         1.04083409e-16,  1.04083409e-16,  0.00000000e+00,\n",
       "        -1.11022302e-16, -1.11022302e-16,  0.00000000e+00,\n",
       "         5.55111512e-17,  0.00000000e+00,  5.55111512e-17,\n",
       "        -1.11022302e-16,  0.00000000e+00,  0.00000000e+00,\n",
       "         5.89805982e-17,  0.00000000e+00,  2.22044605e-16,\n",
       "         0.00000000e+00, -5.55111512e-17,  0.00000000e+00,\n",
       "        -8.32667268e-17, -1.11022302e-16,  0.00000000e+00,\n",
       "         0.00000000e+00,  8.32667268e-17,  1.11022302e-16,\n",
       "         1.11022302e-16,  5.55111512e-17, -5.55111512e-17,\n",
       "         1.11022302e-16, -9.71445147e-17,  4.44089210e-16,\n",
       "         0.00000000e+00,  9.71445147e-17, -2.77555756e-17,\n",
       "        -2.22044605e-16,  0.00000000e+00,  0.00000000e+00,\n",
       "         4.85722573e-17,  1.11022302e-16,  4.44089210e-16,\n",
       "         4.16333634e-17,  6.93889390e-17,  5.55111512e-17,\n",
       "         5.55111512e-17, -1.11022302e-16,  2.77555756e-17,\n",
       "        -2.22044605e-16,  8.32667268e-17, -1.11022302e-16,\n",
       "         0.00000000e+00, -1.11022302e-16,  0.00000000e+00,\n",
       "         1.11022302e-16,  1.11022302e-16,  0.00000000e+00,\n",
       "         1.11022302e-16, -1.38777878e-17,  0.00000000e+00,\n",
       "         0.00000000e+00,  0.00000000e+00,  0.00000000e+00,\n",
       "        -1.11022302e-16,  0.00000000e+00, -4.85722573e-17,\n",
       "         0.00000000e+00, -2.22044605e-16,  1.11022302e-16,\n",
       "        -5.55111512e-17,  2.22044605e-16,  1.11022302e-16,\n",
       "         0.00000000e+00,  0.00000000e+00, -1.11022302e-16,\n",
       "         0.00000000e+00,  0.00000000e+00,  0.00000000e+00,\n",
       "         0.00000000e+00,  5.55111512e-17,  2.22044605e-16,\n",
       "         1.11022302e-16, -2.22044605e-16, -2.22044605e-16,\n",
       "         4.16333634e-17,  0.00000000e+00,  2.22044605e-16,\n",
       "         0.00000000e+00, -1.11022302e-16, -2.22044605e-16,\n",
       "         2.77555756e-17, -5.55111512e-17,  0.00000000e+00,\n",
       "         0.00000000e+00,  0.00000000e+00,  5.55111512e-17,\n",
       "         0.00000000e+00,  5.55111512e-17,  0.00000000e+00,\n",
       "         0.00000000e+00, -8.32667268e-17, -5.55111512e-17,\n",
       "        -1.11022302e-16,  5.55111512e-17,  0.00000000e+00,\n",
       "         0.00000000e+00,  0.00000000e+00,  0.00000000e+00,\n",
       "         0.00000000e+00, -1.11022302e-16,  0.00000000e+00,\n",
       "         0.00000000e+00,  5.55111512e-17, -2.22044605e-16,\n",
       "         0.00000000e+00,  2.22044605e-16,  2.22044605e-16,\n",
       "        -5.55111512e-17,  1.11022302e-16,  0.00000000e+00,\n",
       "         0.00000000e+00,  4.44089210e-16, -1.11022302e-16,\n",
       "         0.00000000e+00, -1.11022302e-16,  0.00000000e+00,\n",
       "        -5.55111512e-17,  0.00000000e+00,  0.00000000e+00,\n",
       "        -2.22044605e-16, -1.11022302e-16, -5.55111512e-17,\n",
       "        -5.55111512e-17,  0.00000000e+00,  0.00000000e+00,\n",
       "         2.77555756e-17,  0.00000000e+00, -1.11022302e-16,\n",
       "        -5.55111512e-17,  9.71445147e-17, -8.32667268e-17,\n",
       "         5.55111512e-17,  0.00000000e+00, -6.93889390e-18,\n",
       "         0.00000000e+00, -5.55111512e-17, -5.55111512e-17,\n",
       "         1.11022302e-16, -3.24176450e-17, -8.32667268e-17,\n",
       "         8.32667268e-17, -1.11022302e-16, -1.11022302e-16,\n",
       "        -2.77555756e-17, -5.55111512e-17,  1.11022302e-16,\n",
       "        -1.11022302e-16, -5.55111512e-17, -1.11022302e-16,\n",
       "         0.00000000e+00,  5.55111512e-17,  0.00000000e+00,\n",
       "         0.00000000e+00,  5.55111512e-17,  0.00000000e+00,\n",
       "        -1.11022302e-16,  0.00000000e+00, -5.55111512e-17,\n",
       "         0.00000000e+00, -5.55111512e-17, -5.55111512e-17,\n",
       "        -4.44089210e-16,  1.11022302e-16,  2.77555756e-17,\n",
       "        -2.22044605e-16, -1.11022302e-16,  1.11022302e-16,\n",
       "         0.00000000e+00,  0.00000000e+00,  0.00000000e+00,\n",
       "        -1.11022302e-16,  0.00000000e+00,  1.11022302e-16,\n",
       "         5.55111512e-17, -2.22044605e-16, -5.55111512e-17,\n",
       "         0.00000000e+00,  0.00000000e+00,  0.00000000e+00,\n",
       "         0.00000000e+00, -5.55111512e-17,  8.32667268e-17,\n",
       "         0.00000000e+00, -5.55111512e-17,  0.00000000e+00,\n",
       "         6.24500451e-17,  0.00000000e+00,  0.00000000e+00,\n",
       "         5.55111512e-17,  1.11022302e-16, -2.22044605e-16,\n",
       "         0.00000000e+00,  1.11022302e-16,  0.00000000e+00,\n",
       "        -1.11022302e-16,  0.00000000e+00, -1.11022302e-16,\n",
       "         0.00000000e+00,  0.00000000e+00,  0.00000000e+00,\n",
       "        -3.46944695e-17,  0.00000000e+00,  0.00000000e+00,\n",
       "         0.00000000e+00,  5.55111512e-17,  2.22044605e-16,\n",
       "        -1.11022302e-16,  0.00000000e+00,  2.22044605e-16,\n",
       "         0.00000000e+00,  0.00000000e+00,  0.00000000e+00,\n",
       "        -5.55111512e-17, -2.22044605e-16, -2.22044605e-16,\n",
       "         8.32667268e-17,  0.00000000e+00, -1.11022302e-16,\n",
       "         0.00000000e+00,  2.77555756e-17,  0.00000000e+00,\n",
       "         0.00000000e+00,  0.00000000e+00, -2.22044605e-16,\n",
       "        -1.11022302e-16, -1.11022302e-16, -2.22044605e-16,\n",
       "         0.00000000e+00, -3.46944695e-17,  1.38777878e-17,\n",
       "         0.00000000e+00,  0.00000000e+00, -1.11022302e-16,\n",
       "         0.00000000e+00,  0.00000000e+00,  1.11022302e-16,\n",
       "         0.00000000e+00, -2.22044605e-16,  0.00000000e+00,\n",
       "         1.11022302e-16,  1.11022302e-16,  2.22044605e-16,\n",
       "         1.11022302e-16,  0.00000000e+00,  5.55111512e-17,\n",
       "        -2.77555756e-17,  0.00000000e+00,  0.00000000e+00,\n",
       "         0.00000000e+00,  1.11022302e-16,  0.00000000e+00,\n",
       "         5.55111512e-17,  0.00000000e+00, -1.11022302e-16,\n",
       "         0.00000000e+00,  0.00000000e+00,  0.00000000e+00,\n",
       "         2.22044605e-16, -2.22044605e-16,  2.77555756e-17,\n",
       "         2.22044605e-16]])"
      ]
     },
     "execution_count": 14,
     "metadata": {},
     "output_type": "execute_result"
    }
   ],
   "source": [
    "pt_data"
   ]
  },
  {
   "cell_type": "code",
   "execution_count": 15,
   "id": "f63b7853",
   "metadata": {},
   "outputs": [
    {
     "data": {
      "image/png": "[encoded data removed]",
      "text/plain": [
       "<Figure size 640x480 with 1 Axes>"
      ]
     },
     "metadata": {},
     "output_type": "display_data"
    }
   ],
   "source": [
    "plt.hist(pt_data[0])\n",
    "plt.show()"
   ]
  },
  {
   "cell_type": "code",
   "execution_count": null,
   "id": "c5ab9d36",
   "metadata": {},
   "outputs": [],
   "source": []
  },
  {
   "cell_type": "code",
   "execution_count": null,
   "id": "6fae4387",
   "metadata": {},
   "outputs": [],
   "source": []
  },
  {
   "cell_type": "code",
   "execution_count": null,
   "id": "e6918356",
   "metadata": {},
   "outputs": [],
   "source": []
  }
 ],
 "metadata": {
  "kernelspec": {
   "display_name": "Python 3 (ipykernel)",
   "language": "python",
   "name": "python3"
  },
  "language_info": {
   "codemirror_mode": {
    "name": "ipython",
    "version": 3
   },
   "file_extension": ".py",
   "mimetype": "text/x-python",
   "name": "python",
   "nbconvert_exporter": "python",
   "pygments_lexer": "ipython3",
   "version": "3.11.5"
  }
 },
 "nbformat": 4,
 "nbformat_minor": 5
}
